{
 "cells": [
  {
   "cell_type": "markdown",
   "metadata": {},
   "source": [
    "### Build a K Nearest Neighbour model to predict if the value of of a cryptocurrency will go increase or not.\n",
    "\n",
    "Classification model.\n",
    "\n",
    "dataset:Yahoo finance API"
   ]
  },
  {
   "cell_type": "code",
   "execution_count": 1,
   "metadata": {},
   "outputs": [],
   "source": [
    "import tensorflow as tf\n",
    "import pandas as pd"
   ]
  },
  {
   "cell_type": "code",
   "execution_count": 3,
   "metadata": {},
   "outputs": [
    {
     "name": "stdout",
     "output_type": "stream",
     "text": [
      "[*********************100%%**********************]  1 of 1 completed\n"
     ]
    },
    {
     "data": {
      "text/html": [
       "<div>\n",
       "<style scoped>\n",
       "    .dataframe tbody tr th:only-of-type {\n",
       "        vertical-align: middle;\n",
       "    }\n",
       "\n",
       "    .dataframe tbody tr th {\n",
       "        vertical-align: top;\n",
       "    }\n",
       "\n",
       "    .dataframe thead th {\n",
       "        text-align: right;\n",
       "    }\n",
       "</style>\n",
       "<table border=\"1\" class=\"dataframe\">\n",
       "  <thead>\n",
       "    <tr style=\"text-align: right;\">\n",
       "      <th></th>\n",
       "      <th>Open</th>\n",
       "      <th>High</th>\n",
       "      <th>Low</th>\n",
       "      <th>Close</th>\n",
       "      <th>Adj Close</th>\n",
       "      <th>Volume</th>\n",
       "    </tr>\n",
       "    <tr>\n",
       "      <th>Date</th>\n",
       "      <th></th>\n",
       "      <th></th>\n",
       "      <th></th>\n",
       "      <th></th>\n",
       "      <th></th>\n",
       "      <th></th>\n",
       "    </tr>\n",
       "  </thead>\n",
       "  <tbody>\n",
       "    <tr>\n",
       "      <th>2017-11-09</th>\n",
       "      <td>0.001207</td>\n",
       "      <td>0.001415</td>\n",
       "      <td>0.001181</td>\n",
       "      <td>0.001415</td>\n",
       "      <td>0.001415</td>\n",
       "      <td>6259550</td>\n",
       "    </tr>\n",
       "    <tr>\n",
       "      <th>2017-11-10</th>\n",
       "      <td>0.001421</td>\n",
       "      <td>0.001431</td>\n",
       "      <td>0.001125</td>\n",
       "      <td>0.001163</td>\n",
       "      <td>0.001163</td>\n",
       "      <td>4246520</td>\n",
       "    </tr>\n",
       "    <tr>\n",
       "      <th>2017-11-11</th>\n",
       "      <td>0.001146</td>\n",
       "      <td>0.001257</td>\n",
       "      <td>0.001141</td>\n",
       "      <td>0.001201</td>\n",
       "      <td>0.001201</td>\n",
       "      <td>2231080</td>\n",
       "    </tr>\n",
       "    <tr>\n",
       "      <th>2017-11-12</th>\n",
       "      <td>0.001189</td>\n",
       "      <td>0.001210</td>\n",
       "      <td>0.001002</td>\n",
       "      <td>0.001038</td>\n",
       "      <td>0.001038</td>\n",
       "      <td>3288960</td>\n",
       "    </tr>\n",
       "    <tr>\n",
       "      <th>2017-11-13</th>\n",
       "      <td>0.001046</td>\n",
       "      <td>0.001212</td>\n",
       "      <td>0.001019</td>\n",
       "      <td>0.001211</td>\n",
       "      <td>0.001211</td>\n",
       "      <td>2481270</td>\n",
       "    </tr>\n",
       "    <tr>\n",
       "      <th>...</th>\n",
       "      <td>...</td>\n",
       "      <td>...</td>\n",
       "      <td>...</td>\n",
       "      <td>...</td>\n",
       "      <td>...</td>\n",
       "      <td>...</td>\n",
       "    </tr>\n",
       "    <tr>\n",
       "      <th>2023-06-01</th>\n",
       "      <td>0.071662</td>\n",
       "      <td>0.072119</td>\n",
       "      <td>0.070882</td>\n",
       "      <td>0.071492</td>\n",
       "      <td>0.071492</td>\n",
       "      <td>163467169</td>\n",
       "    </tr>\n",
       "    <tr>\n",
       "      <th>2023-06-02</th>\n",
       "      <td>0.071490</td>\n",
       "      <td>0.073198</td>\n",
       "      <td>0.071168</td>\n",
       "      <td>0.072612</td>\n",
       "      <td>0.072612</td>\n",
       "      <td>172034498</td>\n",
       "    </tr>\n",
       "    <tr>\n",
       "      <th>2023-06-03</th>\n",
       "      <td>0.072610</td>\n",
       "      <td>0.072947</td>\n",
       "      <td>0.072334</td>\n",
       "      <td>0.072671</td>\n",
       "      <td>0.072671</td>\n",
       "      <td>112049190</td>\n",
       "    </tr>\n",
       "    <tr>\n",
       "      <th>2023-06-04</th>\n",
       "      <td>0.072672</td>\n",
       "      <td>0.073250</td>\n",
       "      <td>0.072466</td>\n",
       "      <td>0.072471</td>\n",
       "      <td>0.072471</td>\n",
       "      <td>135558595</td>\n",
       "    </tr>\n",
       "    <tr>\n",
       "      <th>2023-06-05</th>\n",
       "      <td>0.072475</td>\n",
       "      <td>0.072632</td>\n",
       "      <td>0.064828</td>\n",
       "      <td>0.066573</td>\n",
       "      <td>0.066573</td>\n",
       "      <td>506101788</td>\n",
       "    </tr>\n",
       "  </tbody>\n",
       "</table>\n",
       "<p>2035 rows × 6 columns</p>\n",
       "</div>"
      ],
      "text/plain": [
       "                Open      High       Low     Close  Adj Close     Volume\n",
       "Date                                                                    \n",
       "2017-11-09  0.001207  0.001415  0.001181  0.001415   0.001415    6259550\n",
       "2017-11-10  0.001421  0.001431  0.001125  0.001163   0.001163    4246520\n",
       "2017-11-11  0.001146  0.001257  0.001141  0.001201   0.001201    2231080\n",
       "2017-11-12  0.001189  0.001210  0.001002  0.001038   0.001038    3288960\n",
       "2017-11-13  0.001046  0.001212  0.001019  0.001211   0.001211    2481270\n",
       "...              ...       ...       ...       ...        ...        ...\n",
       "2023-06-01  0.071662  0.072119  0.070882  0.071492   0.071492  163467169\n",
       "2023-06-02  0.071490  0.073198  0.071168  0.072612   0.072612  172034498\n",
       "2023-06-03  0.072610  0.072947  0.072334  0.072671   0.072671  112049190\n",
       "2023-06-04  0.072672  0.073250  0.072466  0.072471   0.072471  135558595\n",
       "2023-06-05  0.072475  0.072632  0.064828  0.066573   0.066573  506101788\n",
       "\n",
       "[2035 rows x 6 columns]"
      ]
     },
     "execution_count": 3,
     "metadata": {},
     "output_type": "execute_result"
    }
   ],
   "source": [
    "import yfinance\n",
    "symbol = \"DOGE-USD\"\n",
    "start = \"2016-01-01\"\n",
    "end = \"2023-06-06\"\n",
    "dataframe = yfinance.download(symbol, start, end)\n",
    "dataframe"
   ]
  },
  {
   "cell_type": "code",
   "execution_count": 4,
   "metadata": {},
   "outputs": [
    {
     "name": "stdout",
     "output_type": "stream",
     "text": [
      "<class 'pandas.core.frame.DataFrame'>\n",
      "DatetimeIndex: 2035 entries, 2017-11-09 to 2023-06-05\n",
      "Data columns (total 6 columns):\n",
      " #   Column     Non-Null Count  Dtype  \n",
      "---  ------     --------------  -----  \n",
      " 0   Open       2035 non-null   float64\n",
      " 1   High       2035 non-null   float64\n",
      " 2   Low        2035 non-null   float64\n",
      " 3   Close      2035 non-null   float64\n",
      " 4   Adj Close  2035 non-null   float64\n",
      " 5   Volume     2035 non-null   int64  \n",
      "dtypes: float64(5), int64(1)\n",
      "memory usage: 111.3 KB\n"
     ]
    }
   ],
   "source": [
    "dataframe.info()"
   ]
  },
  {
   "cell_type": "markdown",
   "metadata": {},
   "source": [
    "Save to CSV"
   ]
  },
  {
   "cell_type": "code",
   "execution_count": 5,
   "metadata": {},
   "outputs": [],
   "source": [
    "dataframe.to_csv(\"doge_2016_2013.csv\")"
   ]
  },
  {
   "cell_type": "code",
   "execution_count": 7,
   "metadata": {},
   "outputs": [
    {
     "data": {
      "text/html": [
       "<div>\n",
       "<style scoped>\n",
       "    .dataframe tbody tr th:only-of-type {\n",
       "        vertical-align: middle;\n",
       "    }\n",
       "\n",
       "    .dataframe tbody tr th {\n",
       "        vertical-align: top;\n",
       "    }\n",
       "\n",
       "    .dataframe thead th {\n",
       "        text-align: right;\n",
       "    }\n",
       "</style>\n",
       "<table border=\"1\" class=\"dataframe\">\n",
       "  <thead>\n",
       "    <tr style=\"text-align: right;\">\n",
       "      <th></th>\n",
       "      <th>Date</th>\n",
       "      <th>Open</th>\n",
       "      <th>High</th>\n",
       "      <th>Low</th>\n",
       "      <th>Close</th>\n",
       "      <th>Adj Close</th>\n",
       "      <th>Volume</th>\n",
       "    </tr>\n",
       "  </thead>\n",
       "  <tbody>\n",
       "    <tr>\n",
       "      <th>0</th>\n",
       "      <td>2017-11-09</td>\n",
       "      <td>0.001207</td>\n",
       "      <td>0.001415</td>\n",
       "      <td>0.001181</td>\n",
       "      <td>0.001415</td>\n",
       "      <td>0.001415</td>\n",
       "      <td>6259550</td>\n",
       "    </tr>\n",
       "    <tr>\n",
       "      <th>1</th>\n",
       "      <td>2017-11-10</td>\n",
       "      <td>0.001421</td>\n",
       "      <td>0.001431</td>\n",
       "      <td>0.001125</td>\n",
       "      <td>0.001163</td>\n",
       "      <td>0.001163</td>\n",
       "      <td>4246520</td>\n",
       "    </tr>\n",
       "    <tr>\n",
       "      <th>2</th>\n",
       "      <td>2017-11-11</td>\n",
       "      <td>0.001146</td>\n",
       "      <td>0.001257</td>\n",
       "      <td>0.001141</td>\n",
       "      <td>0.001201</td>\n",
       "      <td>0.001201</td>\n",
       "      <td>2231080</td>\n",
       "    </tr>\n",
       "    <tr>\n",
       "      <th>3</th>\n",
       "      <td>2017-11-12</td>\n",
       "      <td>0.001189</td>\n",
       "      <td>0.001210</td>\n",
       "      <td>0.001002</td>\n",
       "      <td>0.001038</td>\n",
       "      <td>0.001038</td>\n",
       "      <td>3288960</td>\n",
       "    </tr>\n",
       "    <tr>\n",
       "      <th>4</th>\n",
       "      <td>2017-11-13</td>\n",
       "      <td>0.001046</td>\n",
       "      <td>0.001212</td>\n",
       "      <td>0.001019</td>\n",
       "      <td>0.001211</td>\n",
       "      <td>0.001211</td>\n",
       "      <td>2481270</td>\n",
       "    </tr>\n",
       "    <tr>\n",
       "      <th>...</th>\n",
       "      <td>...</td>\n",
       "      <td>...</td>\n",
       "      <td>...</td>\n",
       "      <td>...</td>\n",
       "      <td>...</td>\n",
       "      <td>...</td>\n",
       "      <td>...</td>\n",
       "    </tr>\n",
       "    <tr>\n",
       "      <th>2030</th>\n",
       "      <td>2023-06-01</td>\n",
       "      <td>0.071662</td>\n",
       "      <td>0.072119</td>\n",
       "      <td>0.070882</td>\n",
       "      <td>0.071492</td>\n",
       "      <td>0.071492</td>\n",
       "      <td>163467169</td>\n",
       "    </tr>\n",
       "    <tr>\n",
       "      <th>2031</th>\n",
       "      <td>2023-06-02</td>\n",
       "      <td>0.071490</td>\n",
       "      <td>0.073198</td>\n",
       "      <td>0.071168</td>\n",
       "      <td>0.072612</td>\n",
       "      <td>0.072612</td>\n",
       "      <td>172034498</td>\n",
       "    </tr>\n",
       "    <tr>\n",
       "      <th>2032</th>\n",
       "      <td>2023-06-03</td>\n",
       "      <td>0.072610</td>\n",
       "      <td>0.072947</td>\n",
       "      <td>0.072334</td>\n",
       "      <td>0.072671</td>\n",
       "      <td>0.072671</td>\n",
       "      <td>112049190</td>\n",
       "    </tr>\n",
       "    <tr>\n",
       "      <th>2033</th>\n",
       "      <td>2023-06-04</td>\n",
       "      <td>0.072672</td>\n",
       "      <td>0.073250</td>\n",
       "      <td>0.072466</td>\n",
       "      <td>0.072471</td>\n",
       "      <td>0.072471</td>\n",
       "      <td>135558595</td>\n",
       "    </tr>\n",
       "    <tr>\n",
       "      <th>2034</th>\n",
       "      <td>2023-06-05</td>\n",
       "      <td>0.072475</td>\n",
       "      <td>0.072632</td>\n",
       "      <td>0.064828</td>\n",
       "      <td>0.066573</td>\n",
       "      <td>0.066573</td>\n",
       "      <td>506101788</td>\n",
       "    </tr>\n",
       "  </tbody>\n",
       "</table>\n",
       "<p>2035 rows × 7 columns</p>\n",
       "</div>"
      ],
      "text/plain": [
       "            Date      Open      High       Low     Close  Adj Close     Volume\n",
       "0     2017-11-09  0.001207  0.001415  0.001181  0.001415   0.001415    6259550\n",
       "1     2017-11-10  0.001421  0.001431  0.001125  0.001163   0.001163    4246520\n",
       "2     2017-11-11  0.001146  0.001257  0.001141  0.001201   0.001201    2231080\n",
       "3     2017-11-12  0.001189  0.001210  0.001002  0.001038   0.001038    3288960\n",
       "4     2017-11-13  0.001046  0.001212  0.001019  0.001211   0.001211    2481270\n",
       "...          ...       ...       ...       ...       ...        ...        ...\n",
       "2030  2023-06-01  0.071662  0.072119  0.070882  0.071492   0.071492  163467169\n",
       "2031  2023-06-02  0.071490  0.073198  0.071168  0.072612   0.072612  172034498\n",
       "2032  2023-06-03  0.072610  0.072947  0.072334  0.072671   0.072671  112049190\n",
       "2033  2023-06-04  0.072672  0.073250  0.072466  0.072471   0.072471  135558595\n",
       "2034  2023-06-05  0.072475  0.072632  0.064828  0.066573   0.066573  506101788\n",
       "\n",
       "[2035 rows x 7 columns]"
      ]
     },
     "execution_count": 7,
     "metadata": {},
     "output_type": "execute_result"
    }
   ],
   "source": [
    "df = pd.read_csv(\"doge_2016_2013.csv\")\n",
    "df"
   ]
  },
  {
   "cell_type": "markdown",
   "metadata": {},
   "source": [
    "### Data Preprocessing"
   ]
  },
  {
   "cell_type": "code",
   "execution_count": 9,
   "metadata": {},
   "outputs": [],
   "source": [
    "import numpy as np"
   ]
  },
  {
   "cell_type": "code",
   "execution_count": 10,
   "metadata": {},
   "outputs": [
    {
     "data": {
      "text/html": [
       "<div>\n",
       "<style scoped>\n",
       "    .dataframe tbody tr th:only-of-type {\n",
       "        vertical-align: middle;\n",
       "    }\n",
       "\n",
       "    .dataframe tbody tr th {\n",
       "        vertical-align: top;\n",
       "    }\n",
       "\n",
       "    .dataframe thead th {\n",
       "        text-align: right;\n",
       "    }\n",
       "</style>\n",
       "<table border=\"1\" class=\"dataframe\">\n",
       "  <thead>\n",
       "    <tr style=\"text-align: right;\">\n",
       "      <th></th>\n",
       "      <th>Date</th>\n",
       "      <th>Open</th>\n",
       "      <th>High</th>\n",
       "      <th>Low</th>\n",
       "      <th>Close</th>\n",
       "      <th>Adj Close</th>\n",
       "      <th>Volume</th>\n",
       "      <th>price_increase/decrease</th>\n",
       "    </tr>\n",
       "  </thead>\n",
       "  <tbody>\n",
       "    <tr>\n",
       "      <th>0</th>\n",
       "      <td>2017-11-09</td>\n",
       "      <td>0.001207</td>\n",
       "      <td>0.001415</td>\n",
       "      <td>0.001181</td>\n",
       "      <td>0.001415</td>\n",
       "      <td>0.001415</td>\n",
       "      <td>6259550</td>\n",
       "      <td>-1</td>\n",
       "    </tr>\n",
       "    <tr>\n",
       "      <th>1</th>\n",
       "      <td>2017-11-10</td>\n",
       "      <td>0.001421</td>\n",
       "      <td>0.001431</td>\n",
       "      <td>0.001125</td>\n",
       "      <td>0.001163</td>\n",
       "      <td>0.001163</td>\n",
       "      <td>4246520</td>\n",
       "      <td>1</td>\n",
       "    </tr>\n",
       "    <tr>\n",
       "      <th>2</th>\n",
       "      <td>2017-11-11</td>\n",
       "      <td>0.001146</td>\n",
       "      <td>0.001257</td>\n",
       "      <td>0.001141</td>\n",
       "      <td>0.001201</td>\n",
       "      <td>0.001201</td>\n",
       "      <td>2231080</td>\n",
       "      <td>-1</td>\n",
       "    </tr>\n",
       "    <tr>\n",
       "      <th>3</th>\n",
       "      <td>2017-11-12</td>\n",
       "      <td>0.001189</td>\n",
       "      <td>0.001210</td>\n",
       "      <td>0.001002</td>\n",
       "      <td>0.001038</td>\n",
       "      <td>0.001038</td>\n",
       "      <td>3288960</td>\n",
       "      <td>1</td>\n",
       "    </tr>\n",
       "    <tr>\n",
       "      <th>4</th>\n",
       "      <td>2017-11-13</td>\n",
       "      <td>0.001046</td>\n",
       "      <td>0.001212</td>\n",
       "      <td>0.001019</td>\n",
       "      <td>0.001211</td>\n",
       "      <td>0.001211</td>\n",
       "      <td>2481270</td>\n",
       "      <td>-1</td>\n",
       "    </tr>\n",
       "    <tr>\n",
       "      <th>...</th>\n",
       "      <td>...</td>\n",
       "      <td>...</td>\n",
       "      <td>...</td>\n",
       "      <td>...</td>\n",
       "      <td>...</td>\n",
       "      <td>...</td>\n",
       "      <td>...</td>\n",
       "      <td>...</td>\n",
       "    </tr>\n",
       "    <tr>\n",
       "      <th>2030</th>\n",
       "      <td>2023-06-01</td>\n",
       "      <td>0.071662</td>\n",
       "      <td>0.072119</td>\n",
       "      <td>0.070882</td>\n",
       "      <td>0.071492</td>\n",
       "      <td>0.071492</td>\n",
       "      <td>163467169</td>\n",
       "      <td>1</td>\n",
       "    </tr>\n",
       "    <tr>\n",
       "      <th>2031</th>\n",
       "      <td>2023-06-02</td>\n",
       "      <td>0.071490</td>\n",
       "      <td>0.073198</td>\n",
       "      <td>0.071168</td>\n",
       "      <td>0.072612</td>\n",
       "      <td>0.072612</td>\n",
       "      <td>172034498</td>\n",
       "      <td>1</td>\n",
       "    </tr>\n",
       "    <tr>\n",
       "      <th>2032</th>\n",
       "      <td>2023-06-03</td>\n",
       "      <td>0.072610</td>\n",
       "      <td>0.072947</td>\n",
       "      <td>0.072334</td>\n",
       "      <td>0.072671</td>\n",
       "      <td>0.072671</td>\n",
       "      <td>112049190</td>\n",
       "      <td>-1</td>\n",
       "    </tr>\n",
       "    <tr>\n",
       "      <th>2033</th>\n",
       "      <td>2023-06-04</td>\n",
       "      <td>0.072672</td>\n",
       "      <td>0.073250</td>\n",
       "      <td>0.072466</td>\n",
       "      <td>0.072471</td>\n",
       "      <td>0.072471</td>\n",
       "      <td>135558595</td>\n",
       "      <td>-1</td>\n",
       "    </tr>\n",
       "    <tr>\n",
       "      <th>2034</th>\n",
       "      <td>2023-06-05</td>\n",
       "      <td>0.072475</td>\n",
       "      <td>0.072632</td>\n",
       "      <td>0.064828</td>\n",
       "      <td>0.066573</td>\n",
       "      <td>0.066573</td>\n",
       "      <td>506101788</td>\n",
       "      <td>-1</td>\n",
       "    </tr>\n",
       "  </tbody>\n",
       "</table>\n",
       "<p>2035 rows × 8 columns</p>\n",
       "</div>"
      ],
      "text/plain": [
       "            Date      Open      High       Low     Close  Adj Close  \\\n",
       "0     2017-11-09  0.001207  0.001415  0.001181  0.001415   0.001415   \n",
       "1     2017-11-10  0.001421  0.001431  0.001125  0.001163   0.001163   \n",
       "2     2017-11-11  0.001146  0.001257  0.001141  0.001201   0.001201   \n",
       "3     2017-11-12  0.001189  0.001210  0.001002  0.001038   0.001038   \n",
       "4     2017-11-13  0.001046  0.001212  0.001019  0.001211   0.001211   \n",
       "...          ...       ...       ...       ...       ...        ...   \n",
       "2030  2023-06-01  0.071662  0.072119  0.070882  0.071492   0.071492   \n",
       "2031  2023-06-02  0.071490  0.073198  0.071168  0.072612   0.072612   \n",
       "2032  2023-06-03  0.072610  0.072947  0.072334  0.072671   0.072671   \n",
       "2033  2023-06-04  0.072672  0.073250  0.072466  0.072471   0.072471   \n",
       "2034  2023-06-05  0.072475  0.072632  0.064828  0.066573   0.066573   \n",
       "\n",
       "         Volume  price_increase/decrease  \n",
       "0       6259550                       -1  \n",
       "1       4246520                        1  \n",
       "2       2231080                       -1  \n",
       "3       3288960                        1  \n",
       "4       2481270                       -1  \n",
       "...         ...                      ...  \n",
       "2030  163467169                        1  \n",
       "2031  172034498                        1  \n",
       "2032  112049190                       -1  \n",
       "2033  135558595                       -1  \n",
       "2034  506101788                       -1  \n",
       "\n",
       "[2035 rows x 8 columns]"
      ]
     },
     "execution_count": 10,
     "metadata": {},
     "output_type": "execute_result"
    }
   ],
   "source": [
    "# Create classifier columns\n",
    "# if the next day's price is greater than the current date price, price increase/decrease =1, else=-1\n",
    "\n",
    "INCREASE = 1\n",
    "\n",
    "DECREASE = -1\n",
    "\n",
    "df[\"price_increase/decrease\"] = np.where(df[\"Close\"].shift(-1) > df[\"Close\"],\n",
    "                                          1,-1)\n",
    "df"
   ]
  },
  {
   "cell_type": "code",
   "execution_count": 12,
   "metadata": {},
   "outputs": [
    {
     "data": {
      "text/html": [
       "<div>\n",
       "<style scoped>\n",
       "    .dataframe tbody tr th:only-of-type {\n",
       "        vertical-align: middle;\n",
       "    }\n",
       "\n",
       "    .dataframe tbody tr th {\n",
       "        vertical-align: top;\n",
       "    }\n",
       "\n",
       "    .dataframe thead th {\n",
       "        text-align: right;\n",
       "    }\n",
       "</style>\n",
       "<table border=\"1\" class=\"dataframe\">\n",
       "  <thead>\n",
       "    <tr style=\"text-align: right;\">\n",
       "      <th></th>\n",
       "      <th>Open</th>\n",
       "      <th>High</th>\n",
       "      <th>Low</th>\n",
       "    </tr>\n",
       "  </thead>\n",
       "  <tbody>\n",
       "    <tr>\n",
       "      <th>0</th>\n",
       "      <td>0.001207</td>\n",
       "      <td>0.001415</td>\n",
       "      <td>0.001181</td>\n",
       "    </tr>\n",
       "    <tr>\n",
       "      <th>1</th>\n",
       "      <td>0.001421</td>\n",
       "      <td>0.001431</td>\n",
       "      <td>0.001125</td>\n",
       "    </tr>\n",
       "    <tr>\n",
       "      <th>2</th>\n",
       "      <td>0.001146</td>\n",
       "      <td>0.001257</td>\n",
       "      <td>0.001141</td>\n",
       "    </tr>\n",
       "    <tr>\n",
       "      <th>3</th>\n",
       "      <td>0.001189</td>\n",
       "      <td>0.001210</td>\n",
       "      <td>0.001002</td>\n",
       "    </tr>\n",
       "    <tr>\n",
       "      <th>4</th>\n",
       "      <td>0.001046</td>\n",
       "      <td>0.001212</td>\n",
       "      <td>0.001019</td>\n",
       "    </tr>\n",
       "    <tr>\n",
       "      <th>...</th>\n",
       "      <td>...</td>\n",
       "      <td>...</td>\n",
       "      <td>...</td>\n",
       "    </tr>\n",
       "    <tr>\n",
       "      <th>2030</th>\n",
       "      <td>0.071662</td>\n",
       "      <td>0.072119</td>\n",
       "      <td>0.070882</td>\n",
       "    </tr>\n",
       "    <tr>\n",
       "      <th>2031</th>\n",
       "      <td>0.071490</td>\n",
       "      <td>0.073198</td>\n",
       "      <td>0.071168</td>\n",
       "    </tr>\n",
       "    <tr>\n",
       "      <th>2032</th>\n",
       "      <td>0.072610</td>\n",
       "      <td>0.072947</td>\n",
       "      <td>0.072334</td>\n",
       "    </tr>\n",
       "    <tr>\n",
       "      <th>2033</th>\n",
       "      <td>0.072672</td>\n",
       "      <td>0.073250</td>\n",
       "      <td>0.072466</td>\n",
       "    </tr>\n",
       "    <tr>\n",
       "      <th>2034</th>\n",
       "      <td>0.072475</td>\n",
       "      <td>0.072632</td>\n",
       "      <td>0.064828</td>\n",
       "    </tr>\n",
       "  </tbody>\n",
       "</table>\n",
       "<p>2035 rows × 3 columns</p>\n",
       "</div>"
      ],
      "text/plain": [
       "          Open      High       Low\n",
       "0     0.001207  0.001415  0.001181\n",
       "1     0.001421  0.001431  0.001125\n",
       "2     0.001146  0.001257  0.001141\n",
       "3     0.001189  0.001210  0.001002\n",
       "4     0.001046  0.001212  0.001019\n",
       "...        ...       ...       ...\n",
       "2030  0.071662  0.072119  0.070882\n",
       "2031  0.071490  0.073198  0.071168\n",
       "2032  0.072610  0.072947  0.072334\n",
       "2033  0.072672  0.073250  0.072466\n",
       "2034  0.072475  0.072632  0.064828\n",
       "\n",
       "[2035 rows x 3 columns]"
      ]
     },
     "execution_count": 12,
     "metadata": {},
     "output_type": "execute_result"
    }
   ],
   "source": [
    "X = df.iloc[:,1:4]\n",
    "X"
   ]
  },
  {
   "cell_type": "code",
   "execution_count": 14,
   "metadata": {},
   "outputs": [
    {
     "data": {
      "text/plain": [
       "array([[0.001207, 0.001415, 0.001181],\n",
       "       [0.001421, 0.001431, 0.001125],\n",
       "       [0.001146, 0.001257, 0.001141],\n",
       "       ...,\n",
       "       [0.07261 , 0.072947, 0.072334],\n",
       "       [0.072672, 0.07325 , 0.072466],\n",
       "       [0.072475, 0.072632, 0.064828]])"
      ]
     },
     "execution_count": 14,
     "metadata": {},
     "output_type": "execute_result"
    }
   ],
   "source": [
    "X = df.iloc[:, 1:4].values\n",
    "X"
   ]
  },
  {
   "cell_type": "code",
   "execution_count": 15,
   "metadata": {},
   "outputs": [
    {
     "data": {
      "text/plain": [
       "array([  6259550,   4246520,   2231080, ..., 112049190, 135558595,\n",
       "       506101788], dtype=int64)"
      ]
     },
     "execution_count": 15,
     "metadata": {},
     "output_type": "execute_result"
    }
   ],
   "source": [
    "y = df.iloc[:,6].values\n",
    "y"
   ]
  },
  {
   "cell_type": "markdown",
   "metadata": {},
   "source": [
    "### Split Data into training and testing:\n",
    "\n",
    "Train-test splitting"
   ]
  },
  {
   "cell_type": "code",
   "execution_count": 16,
   "metadata": {},
   "outputs": [],
   "source": [
    "from sklearn.model_selection import train_test_split"
   ]
  },
  {
   "cell_type": "code",
   "execution_count": 23,
   "metadata": {},
   "outputs": [],
   "source": [
    "X_train, X_test, y_train, y_test = train_test_split(X, y, test_size=0.2)"
   ]
  },
  {
   "cell_type": "code",
   "execution_count": 24,
   "metadata": {},
   "outputs": [
    {
     "data": {
      "text/plain": [
       "(1628, 3)"
      ]
     },
     "execution_count": 24,
     "metadata": {},
     "output_type": "execute_result"
    }
   ],
   "source": [
    "X_train.shape"
   ]
  },
  {
   "cell_type": "code",
   "execution_count": 25,
   "metadata": {},
   "outputs": [
    {
     "data": {
      "text/plain": [
       "(407, 3)"
      ]
     },
     "execution_count": 25,
     "metadata": {},
     "output_type": "execute_result"
    }
   ],
   "source": [
    "X_test.shape"
   ]
  },
  {
   "cell_type": "code",
   "execution_count": 26,
   "metadata": {},
   "outputs": [
    {
     "data": {
      "text/plain": [
       "(407,)"
      ]
     },
     "execution_count": 26,
     "metadata": {},
     "output_type": "execute_result"
    }
   ],
   "source": [
    "y_test.shape"
   ]
  },
  {
   "cell_type": "code",
   "execution_count": 27,
   "metadata": {},
   "outputs": [
    {
     "data": {
      "text/plain": [
       "(1628,)"
      ]
     },
     "execution_count": 27,
     "metadata": {},
     "output_type": "execute_result"
    }
   ],
   "source": [
    "y_train.shape"
   ]
  },
  {
   "cell_type": "markdown",
   "metadata": {},
   "source": [
    "### Scaling the data"
   ]
  },
  {
   "cell_type": "code",
   "execution_count": 28,
   "metadata": {},
   "outputs": [
    {
     "data": {
      "text/plain": [
       "array([[-0.63906277, -0.62609   , -0.65270008],\n",
       "       [-0.64475763, -0.63136568, -0.65906973],\n",
       "       [-0.63067598, -0.61852358, -0.64436162],\n",
       "       ...,\n",
       "       [-0.09207716, -0.1060398 , -0.1253738 ],\n",
       "       [-0.62658984, -0.61211741, -0.64135052],\n",
       "       [ 0.9636388 ,  0.87332095,  1.05096229]])"
      ]
     },
     "execution_count": 28,
     "metadata": {},
     "output_type": "execute_result"
    }
   ],
   "source": [
    "from sklearn.preprocessing import StandardScaler\n",
    "\n",
    "standard_scaler = StandardScaler()\n",
    "\n",
    "standard_scaler.fit(X_train)\n",
    "\n",
    "X_train_scaled = standard_scaler.transform(X_train)\n",
    "X_train_scaled"
   ]
  },
  {
   "cell_type": "code",
   "execution_count": null,
   "metadata": {},
   "outputs": [],
   "source": []
  }
 ],
 "metadata": {
  "kernelspec": {
   "display_name": "tf-gpu-env",
   "language": "python",
   "name": "python3"
  },
  "language_info": {
   "codemirror_mode": {
    "name": "ipython",
    "version": 3
   },
   "file_extension": ".py",
   "mimetype": "text/x-python",
   "name": "python",
   "nbconvert_exporter": "python",
   "pygments_lexer": "ipython3",
   "version": "3.10.9"
  },
  "orig_nbformat": 4
 },
 "nbformat": 4,
 "nbformat_minor": 2
}

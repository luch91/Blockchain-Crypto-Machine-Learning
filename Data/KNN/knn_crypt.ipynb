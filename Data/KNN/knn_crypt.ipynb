{
 "cells": [
  {
   "cell_type": "markdown",
   "metadata": {},
   "source": [
    "### Build a K Nearest Neighbour model to predict if the value of of a cryptocurrency will go increase or not.\n",
    "\n",
    "Classification model.\n",
    "\n",
    "dataset:Yahoo finance API"
   ]
  },
  {
   "cell_type": "markdown",
   "metadata": {},
   "source": [
    "### Process:\n",
    "\n",
    "Load doge data via Yahoofinance API\n",
    "\n",
    "Preprocess the data\n",
    "\n",
    "Trained K_Nearest_Neighbor and used it to make prediction\n",
    "\n",
    "Evaluate the model\n",
    "\n",
    "Tweak the model by evaluating the best value for K"
   ]
  },
  {
   "cell_type": "code",
   "execution_count": 34,
   "metadata": {},
   "outputs": [],
   "source": [
    "import tensorflow as tf\n",
    "import pandas as pd\n",
    "import numpy as np"
   ]
  },
  {
   "cell_type": "code",
   "execution_count": 35,
   "metadata": {},
   "outputs": [
    {
     "name": "stdout",
     "output_type": "stream",
     "text": [
      "[*********************100%%**********************]  1 of 1 completed\n"
     ]
    },
    {
     "data": {
      "text/html": [
       "<div>\n",
       "<style scoped>\n",
       "    .dataframe tbody tr th:only-of-type {\n",
       "        vertical-align: middle;\n",
       "    }\n",
       "\n",
       "    .dataframe tbody tr th {\n",
       "        vertical-align: top;\n",
       "    }\n",
       "\n",
       "    .dataframe thead th {\n",
       "        text-align: right;\n",
       "    }\n",
       "</style>\n",
       "<table border=\"1\" class=\"dataframe\">\n",
       "  <thead>\n",
       "    <tr style=\"text-align: right;\">\n",
       "      <th></th>\n",
       "      <th>Open</th>\n",
       "      <th>High</th>\n",
       "      <th>Low</th>\n",
       "      <th>Close</th>\n",
       "      <th>Adj Close</th>\n",
       "      <th>Volume</th>\n",
       "    </tr>\n",
       "    <tr>\n",
       "      <th>Date</th>\n",
       "      <th></th>\n",
       "      <th></th>\n",
       "      <th></th>\n",
       "      <th></th>\n",
       "      <th></th>\n",
       "      <th></th>\n",
       "    </tr>\n",
       "  </thead>\n",
       "  <tbody>\n",
       "    <tr>\n",
       "      <th>2017-11-09</th>\n",
       "      <td>0.001207</td>\n",
       "      <td>0.001415</td>\n",
       "      <td>0.001181</td>\n",
       "      <td>0.001415</td>\n",
       "      <td>0.001415</td>\n",
       "      <td>6259550</td>\n",
       "    </tr>\n",
       "    <tr>\n",
       "      <th>2017-11-10</th>\n",
       "      <td>0.001421</td>\n",
       "      <td>0.001431</td>\n",
       "      <td>0.001125</td>\n",
       "      <td>0.001163</td>\n",
       "      <td>0.001163</td>\n",
       "      <td>4246520</td>\n",
       "    </tr>\n",
       "    <tr>\n",
       "      <th>2017-11-11</th>\n",
       "      <td>0.001146</td>\n",
       "      <td>0.001257</td>\n",
       "      <td>0.001141</td>\n",
       "      <td>0.001201</td>\n",
       "      <td>0.001201</td>\n",
       "      <td>2231080</td>\n",
       "    </tr>\n",
       "    <tr>\n",
       "      <th>2017-11-12</th>\n",
       "      <td>0.001189</td>\n",
       "      <td>0.001210</td>\n",
       "      <td>0.001002</td>\n",
       "      <td>0.001038</td>\n",
       "      <td>0.001038</td>\n",
       "      <td>3288960</td>\n",
       "    </tr>\n",
       "    <tr>\n",
       "      <th>2017-11-13</th>\n",
       "      <td>0.001046</td>\n",
       "      <td>0.001212</td>\n",
       "      <td>0.001019</td>\n",
       "      <td>0.001211</td>\n",
       "      <td>0.001211</td>\n",
       "      <td>2481270</td>\n",
       "    </tr>\n",
       "    <tr>\n",
       "      <th>...</th>\n",
       "      <td>...</td>\n",
       "      <td>...</td>\n",
       "      <td>...</td>\n",
       "      <td>...</td>\n",
       "      <td>...</td>\n",
       "      <td>...</td>\n",
       "    </tr>\n",
       "    <tr>\n",
       "      <th>2023-06-01</th>\n",
       "      <td>0.071662</td>\n",
       "      <td>0.072119</td>\n",
       "      <td>0.070882</td>\n",
       "      <td>0.071492</td>\n",
       "      <td>0.071492</td>\n",
       "      <td>163467169</td>\n",
       "    </tr>\n",
       "    <tr>\n",
       "      <th>2023-06-02</th>\n",
       "      <td>0.071490</td>\n",
       "      <td>0.073198</td>\n",
       "      <td>0.071168</td>\n",
       "      <td>0.072612</td>\n",
       "      <td>0.072612</td>\n",
       "      <td>172034498</td>\n",
       "    </tr>\n",
       "    <tr>\n",
       "      <th>2023-06-03</th>\n",
       "      <td>0.072610</td>\n",
       "      <td>0.072947</td>\n",
       "      <td>0.072334</td>\n",
       "      <td>0.072671</td>\n",
       "      <td>0.072671</td>\n",
       "      <td>112049190</td>\n",
       "    </tr>\n",
       "    <tr>\n",
       "      <th>2023-06-04</th>\n",
       "      <td>0.072672</td>\n",
       "      <td>0.073250</td>\n",
       "      <td>0.072466</td>\n",
       "      <td>0.072471</td>\n",
       "      <td>0.072471</td>\n",
       "      <td>135558595</td>\n",
       "    </tr>\n",
       "    <tr>\n",
       "      <th>2023-06-05</th>\n",
       "      <td>0.072475</td>\n",
       "      <td>0.072632</td>\n",
       "      <td>0.064828</td>\n",
       "      <td>0.066573</td>\n",
       "      <td>0.066573</td>\n",
       "      <td>506101788</td>\n",
       "    </tr>\n",
       "  </tbody>\n",
       "</table>\n",
       "<p>2035 rows × 6 columns</p>\n",
       "</div>"
      ],
      "text/plain": [
       "                Open      High       Low     Close  Adj Close     Volume\n",
       "Date                                                                    \n",
       "2017-11-09  0.001207  0.001415  0.001181  0.001415   0.001415    6259550\n",
       "2017-11-10  0.001421  0.001431  0.001125  0.001163   0.001163    4246520\n",
       "2017-11-11  0.001146  0.001257  0.001141  0.001201   0.001201    2231080\n",
       "2017-11-12  0.001189  0.001210  0.001002  0.001038   0.001038    3288960\n",
       "2017-11-13  0.001046  0.001212  0.001019  0.001211   0.001211    2481270\n",
       "...              ...       ...       ...       ...        ...        ...\n",
       "2023-06-01  0.071662  0.072119  0.070882  0.071492   0.071492  163467169\n",
       "2023-06-02  0.071490  0.073198  0.071168  0.072612   0.072612  172034498\n",
       "2023-06-03  0.072610  0.072947  0.072334  0.072671   0.072671  112049190\n",
       "2023-06-04  0.072672  0.073250  0.072466  0.072471   0.072471  135558595\n",
       "2023-06-05  0.072475  0.072632  0.064828  0.066573   0.066573  506101788\n",
       "\n",
       "[2035 rows x 6 columns]"
      ]
     },
     "execution_count": 35,
     "metadata": {},
     "output_type": "execute_result"
    }
   ],
   "source": [
    "import yfinance\n",
    "symbol = \"DOGE-USD\"\n",
    "start = \"2014-01-01\"\n",
    "end = \"2023-06-06\"\n",
    "dataframe = yfinance.download(symbol, start, end)\n",
    "dataframe"
   ]
  },
  {
   "cell_type": "code",
   "execution_count": 36,
   "metadata": {},
   "outputs": [
    {
     "name": "stdout",
     "output_type": "stream",
     "text": [
      "<class 'pandas.core.frame.DataFrame'>\n",
      "DatetimeIndex: 2035 entries, 2017-11-09 to 2023-06-05\n",
      "Data columns (total 6 columns):\n",
      " #   Column     Non-Null Count  Dtype  \n",
      "---  ------     --------------  -----  \n",
      " 0   Open       2035 non-null   float64\n",
      " 1   High       2035 non-null   float64\n",
      " 2   Low        2035 non-null   float64\n",
      " 3   Close      2035 non-null   float64\n",
      " 4   Adj Close  2035 non-null   float64\n",
      " 5   Volume     2035 non-null   int64  \n",
      "dtypes: float64(5), int64(1)\n",
      "memory usage: 111.3 KB\n"
     ]
    }
   ],
   "source": [
    "dataframe.info()"
   ]
  },
  {
   "cell_type": "markdown",
   "metadata": {},
   "source": [
    "Save to CSV"
   ]
  },
  {
   "cell_type": "code",
   "execution_count": 37,
   "metadata": {},
   "outputs": [],
   "source": [
    "dataframe.to_csv(\"doge_2014_2023.csv\")"
   ]
  },
  {
   "cell_type": "code",
   "execution_count": 38,
   "metadata": {},
   "outputs": [
    {
     "data": {
      "text/html": [
       "<div>\n",
       "<style scoped>\n",
       "    .dataframe tbody tr th:only-of-type {\n",
       "        vertical-align: middle;\n",
       "    }\n",
       "\n",
       "    .dataframe tbody tr th {\n",
       "        vertical-align: top;\n",
       "    }\n",
       "\n",
       "    .dataframe thead th {\n",
       "        text-align: right;\n",
       "    }\n",
       "</style>\n",
       "<table border=\"1\" class=\"dataframe\">\n",
       "  <thead>\n",
       "    <tr style=\"text-align: right;\">\n",
       "      <th></th>\n",
       "      <th>Date</th>\n",
       "      <th>Open</th>\n",
       "      <th>High</th>\n",
       "      <th>Low</th>\n",
       "      <th>Close</th>\n",
       "      <th>Adj Close</th>\n",
       "      <th>Volume</th>\n",
       "    </tr>\n",
       "  </thead>\n",
       "  <tbody>\n",
       "    <tr>\n",
       "      <th>0</th>\n",
       "      <td>2017-11-09</td>\n",
       "      <td>0.001207</td>\n",
       "      <td>0.001415</td>\n",
       "      <td>0.001181</td>\n",
       "      <td>0.001415</td>\n",
       "      <td>0.001415</td>\n",
       "      <td>6259550</td>\n",
       "    </tr>\n",
       "    <tr>\n",
       "      <th>1</th>\n",
       "      <td>2017-11-10</td>\n",
       "      <td>0.001421</td>\n",
       "      <td>0.001431</td>\n",
       "      <td>0.001125</td>\n",
       "      <td>0.001163</td>\n",
       "      <td>0.001163</td>\n",
       "      <td>4246520</td>\n",
       "    </tr>\n",
       "    <tr>\n",
       "      <th>2</th>\n",
       "      <td>2017-11-11</td>\n",
       "      <td>0.001146</td>\n",
       "      <td>0.001257</td>\n",
       "      <td>0.001141</td>\n",
       "      <td>0.001201</td>\n",
       "      <td>0.001201</td>\n",
       "      <td>2231080</td>\n",
       "    </tr>\n",
       "    <tr>\n",
       "      <th>3</th>\n",
       "      <td>2017-11-12</td>\n",
       "      <td>0.001189</td>\n",
       "      <td>0.001210</td>\n",
       "      <td>0.001002</td>\n",
       "      <td>0.001038</td>\n",
       "      <td>0.001038</td>\n",
       "      <td>3288960</td>\n",
       "    </tr>\n",
       "    <tr>\n",
       "      <th>4</th>\n",
       "      <td>2017-11-13</td>\n",
       "      <td>0.001046</td>\n",
       "      <td>0.001212</td>\n",
       "      <td>0.001019</td>\n",
       "      <td>0.001211</td>\n",
       "      <td>0.001211</td>\n",
       "      <td>2481270</td>\n",
       "    </tr>\n",
       "    <tr>\n",
       "      <th>...</th>\n",
       "      <td>...</td>\n",
       "      <td>...</td>\n",
       "      <td>...</td>\n",
       "      <td>...</td>\n",
       "      <td>...</td>\n",
       "      <td>...</td>\n",
       "      <td>...</td>\n",
       "    </tr>\n",
       "    <tr>\n",
       "      <th>2030</th>\n",
       "      <td>2023-06-01</td>\n",
       "      <td>0.071662</td>\n",
       "      <td>0.072119</td>\n",
       "      <td>0.070882</td>\n",
       "      <td>0.071492</td>\n",
       "      <td>0.071492</td>\n",
       "      <td>163467169</td>\n",
       "    </tr>\n",
       "    <tr>\n",
       "      <th>2031</th>\n",
       "      <td>2023-06-02</td>\n",
       "      <td>0.071490</td>\n",
       "      <td>0.073198</td>\n",
       "      <td>0.071168</td>\n",
       "      <td>0.072612</td>\n",
       "      <td>0.072612</td>\n",
       "      <td>172034498</td>\n",
       "    </tr>\n",
       "    <tr>\n",
       "      <th>2032</th>\n",
       "      <td>2023-06-03</td>\n",
       "      <td>0.072610</td>\n",
       "      <td>0.072947</td>\n",
       "      <td>0.072334</td>\n",
       "      <td>0.072671</td>\n",
       "      <td>0.072671</td>\n",
       "      <td>112049190</td>\n",
       "    </tr>\n",
       "    <tr>\n",
       "      <th>2033</th>\n",
       "      <td>2023-06-04</td>\n",
       "      <td>0.072672</td>\n",
       "      <td>0.073250</td>\n",
       "      <td>0.072466</td>\n",
       "      <td>0.072471</td>\n",
       "      <td>0.072471</td>\n",
       "      <td>135558595</td>\n",
       "    </tr>\n",
       "    <tr>\n",
       "      <th>2034</th>\n",
       "      <td>2023-06-05</td>\n",
       "      <td>0.072475</td>\n",
       "      <td>0.072632</td>\n",
       "      <td>0.064828</td>\n",
       "      <td>0.066573</td>\n",
       "      <td>0.066573</td>\n",
       "      <td>506101788</td>\n",
       "    </tr>\n",
       "  </tbody>\n",
       "</table>\n",
       "<p>2035 rows × 7 columns</p>\n",
       "</div>"
      ],
      "text/plain": [
       "            Date      Open      High       Low     Close  Adj Close     Volume\n",
       "0     2017-11-09  0.001207  0.001415  0.001181  0.001415   0.001415    6259550\n",
       "1     2017-11-10  0.001421  0.001431  0.001125  0.001163   0.001163    4246520\n",
       "2     2017-11-11  0.001146  0.001257  0.001141  0.001201   0.001201    2231080\n",
       "3     2017-11-12  0.001189  0.001210  0.001002  0.001038   0.001038    3288960\n",
       "4     2017-11-13  0.001046  0.001212  0.001019  0.001211   0.001211    2481270\n",
       "...          ...       ...       ...       ...       ...        ...        ...\n",
       "2030  2023-06-01  0.071662  0.072119  0.070882  0.071492   0.071492  163467169\n",
       "2031  2023-06-02  0.071490  0.073198  0.071168  0.072612   0.072612  172034498\n",
       "2032  2023-06-03  0.072610  0.072947  0.072334  0.072671   0.072671  112049190\n",
       "2033  2023-06-04  0.072672  0.073250  0.072466  0.072471   0.072471  135558595\n",
       "2034  2023-06-05  0.072475  0.072632  0.064828  0.066573   0.066573  506101788\n",
       "\n",
       "[2035 rows x 7 columns]"
      ]
     },
     "execution_count": 38,
     "metadata": {},
     "output_type": "execute_result"
    }
   ],
   "source": [
    "df = pd.read_csv(\"doge_2014_2023.csv\")\n",
    "df"
   ]
  },
  {
   "cell_type": "markdown",
   "metadata": {},
   "source": [
    "### Data Preprocessing"
   ]
  },
  {
   "cell_type": "code",
   "execution_count": 39,
   "metadata": {},
   "outputs": [],
   "source": [
    "import numpy as np"
   ]
  },
  {
   "cell_type": "code",
   "execution_count": 40,
   "metadata": {},
   "outputs": [
    {
     "data": {
      "text/html": [
       "<div>\n",
       "<style scoped>\n",
       "    .dataframe tbody tr th:only-of-type {\n",
       "        vertical-align: middle;\n",
       "    }\n",
       "\n",
       "    .dataframe tbody tr th {\n",
       "        vertical-align: top;\n",
       "    }\n",
       "\n",
       "    .dataframe thead th {\n",
       "        text-align: right;\n",
       "    }\n",
       "</style>\n",
       "<table border=\"1\" class=\"dataframe\">\n",
       "  <thead>\n",
       "    <tr style=\"text-align: right;\">\n",
       "      <th></th>\n",
       "      <th>Date</th>\n",
       "      <th>Open</th>\n",
       "      <th>High</th>\n",
       "      <th>Low</th>\n",
       "      <th>Close</th>\n",
       "      <th>Adj Close</th>\n",
       "      <th>Volume</th>\n",
       "      <th>price_increase/decrease</th>\n",
       "    </tr>\n",
       "  </thead>\n",
       "  <tbody>\n",
       "    <tr>\n",
       "      <th>0</th>\n",
       "      <td>2017-11-09</td>\n",
       "      <td>0.001207</td>\n",
       "      <td>0.001415</td>\n",
       "      <td>0.001181</td>\n",
       "      <td>0.001415</td>\n",
       "      <td>0.001415</td>\n",
       "      <td>6259550</td>\n",
       "      <td>-1</td>\n",
       "    </tr>\n",
       "    <tr>\n",
       "      <th>1</th>\n",
       "      <td>2017-11-10</td>\n",
       "      <td>0.001421</td>\n",
       "      <td>0.001431</td>\n",
       "      <td>0.001125</td>\n",
       "      <td>0.001163</td>\n",
       "      <td>0.001163</td>\n",
       "      <td>4246520</td>\n",
       "      <td>1</td>\n",
       "    </tr>\n",
       "    <tr>\n",
       "      <th>2</th>\n",
       "      <td>2017-11-11</td>\n",
       "      <td>0.001146</td>\n",
       "      <td>0.001257</td>\n",
       "      <td>0.001141</td>\n",
       "      <td>0.001201</td>\n",
       "      <td>0.001201</td>\n",
       "      <td>2231080</td>\n",
       "      <td>-1</td>\n",
       "    </tr>\n",
       "    <tr>\n",
       "      <th>3</th>\n",
       "      <td>2017-11-12</td>\n",
       "      <td>0.001189</td>\n",
       "      <td>0.001210</td>\n",
       "      <td>0.001002</td>\n",
       "      <td>0.001038</td>\n",
       "      <td>0.001038</td>\n",
       "      <td>3288960</td>\n",
       "      <td>1</td>\n",
       "    </tr>\n",
       "    <tr>\n",
       "      <th>4</th>\n",
       "      <td>2017-11-13</td>\n",
       "      <td>0.001046</td>\n",
       "      <td>0.001212</td>\n",
       "      <td>0.001019</td>\n",
       "      <td>0.001211</td>\n",
       "      <td>0.001211</td>\n",
       "      <td>2481270</td>\n",
       "      <td>-1</td>\n",
       "    </tr>\n",
       "    <tr>\n",
       "      <th>...</th>\n",
       "      <td>...</td>\n",
       "      <td>...</td>\n",
       "      <td>...</td>\n",
       "      <td>...</td>\n",
       "      <td>...</td>\n",
       "      <td>...</td>\n",
       "      <td>...</td>\n",
       "      <td>...</td>\n",
       "    </tr>\n",
       "    <tr>\n",
       "      <th>2030</th>\n",
       "      <td>2023-06-01</td>\n",
       "      <td>0.071662</td>\n",
       "      <td>0.072119</td>\n",
       "      <td>0.070882</td>\n",
       "      <td>0.071492</td>\n",
       "      <td>0.071492</td>\n",
       "      <td>163467169</td>\n",
       "      <td>1</td>\n",
       "    </tr>\n",
       "    <tr>\n",
       "      <th>2031</th>\n",
       "      <td>2023-06-02</td>\n",
       "      <td>0.071490</td>\n",
       "      <td>0.073198</td>\n",
       "      <td>0.071168</td>\n",
       "      <td>0.072612</td>\n",
       "      <td>0.072612</td>\n",
       "      <td>172034498</td>\n",
       "      <td>1</td>\n",
       "    </tr>\n",
       "    <tr>\n",
       "      <th>2032</th>\n",
       "      <td>2023-06-03</td>\n",
       "      <td>0.072610</td>\n",
       "      <td>0.072947</td>\n",
       "      <td>0.072334</td>\n",
       "      <td>0.072671</td>\n",
       "      <td>0.072671</td>\n",
       "      <td>112049190</td>\n",
       "      <td>-1</td>\n",
       "    </tr>\n",
       "    <tr>\n",
       "      <th>2033</th>\n",
       "      <td>2023-06-04</td>\n",
       "      <td>0.072672</td>\n",
       "      <td>0.073250</td>\n",
       "      <td>0.072466</td>\n",
       "      <td>0.072471</td>\n",
       "      <td>0.072471</td>\n",
       "      <td>135558595</td>\n",
       "      <td>-1</td>\n",
       "    </tr>\n",
       "    <tr>\n",
       "      <th>2034</th>\n",
       "      <td>2023-06-05</td>\n",
       "      <td>0.072475</td>\n",
       "      <td>0.072632</td>\n",
       "      <td>0.064828</td>\n",
       "      <td>0.066573</td>\n",
       "      <td>0.066573</td>\n",
       "      <td>506101788</td>\n",
       "      <td>-1</td>\n",
       "    </tr>\n",
       "  </tbody>\n",
       "</table>\n",
       "<p>2035 rows × 8 columns</p>\n",
       "</div>"
      ],
      "text/plain": [
       "            Date      Open      High       Low     Close  Adj Close  \\\n",
       "0     2017-11-09  0.001207  0.001415  0.001181  0.001415   0.001415   \n",
       "1     2017-11-10  0.001421  0.001431  0.001125  0.001163   0.001163   \n",
       "2     2017-11-11  0.001146  0.001257  0.001141  0.001201   0.001201   \n",
       "3     2017-11-12  0.001189  0.001210  0.001002  0.001038   0.001038   \n",
       "4     2017-11-13  0.001046  0.001212  0.001019  0.001211   0.001211   \n",
       "...          ...       ...       ...       ...       ...        ...   \n",
       "2030  2023-06-01  0.071662  0.072119  0.070882  0.071492   0.071492   \n",
       "2031  2023-06-02  0.071490  0.073198  0.071168  0.072612   0.072612   \n",
       "2032  2023-06-03  0.072610  0.072947  0.072334  0.072671   0.072671   \n",
       "2033  2023-06-04  0.072672  0.073250  0.072466  0.072471   0.072471   \n",
       "2034  2023-06-05  0.072475  0.072632  0.064828  0.066573   0.066573   \n",
       "\n",
       "         Volume  price_increase/decrease  \n",
       "0       6259550                       -1  \n",
       "1       4246520                        1  \n",
       "2       2231080                       -1  \n",
       "3       3288960                        1  \n",
       "4       2481270                       -1  \n",
       "...         ...                      ...  \n",
       "2030  163467169                        1  \n",
       "2031  172034498                        1  \n",
       "2032  112049190                       -1  \n",
       "2033  135558595                       -1  \n",
       "2034  506101788                       -1  \n",
       "\n",
       "[2035 rows x 8 columns]"
      ]
     },
     "execution_count": 40,
     "metadata": {},
     "output_type": "execute_result"
    }
   ],
   "source": [
    "# Create classifier columns\n",
    "# if the next day's price is greater than the current date price, price increase/decrease =1, else=-1\n",
    "\n",
    "INCREASE = 1\n",
    "\n",
    "DECREASE = -1\n",
    "\n",
    "df[\"price_increase/decrease\"] = np.where(df[\"Close\"].shift(-1) > df[\"Close\"],\n",
    "                                          1,-1)\n",
    "df"
   ]
  },
  {
   "cell_type": "code",
   "execution_count": 41,
   "metadata": {},
   "outputs": [
    {
     "data": {
      "text/html": [
       "<div>\n",
       "<style scoped>\n",
       "    .dataframe tbody tr th:only-of-type {\n",
       "        vertical-align: middle;\n",
       "    }\n",
       "\n",
       "    .dataframe tbody tr th {\n",
       "        vertical-align: top;\n",
       "    }\n",
       "\n",
       "    .dataframe thead th {\n",
       "        text-align: right;\n",
       "    }\n",
       "</style>\n",
       "<table border=\"1\" class=\"dataframe\">\n",
       "  <thead>\n",
       "    <tr style=\"text-align: right;\">\n",
       "      <th></th>\n",
       "      <th>Open</th>\n",
       "      <th>High</th>\n",
       "      <th>Low</th>\n",
       "      <th>Close</th>\n",
       "      <th>Adj Close</th>\n",
       "    </tr>\n",
       "  </thead>\n",
       "  <tbody>\n",
       "    <tr>\n",
       "      <th>0</th>\n",
       "      <td>0.001207</td>\n",
       "      <td>0.001415</td>\n",
       "      <td>0.001181</td>\n",
       "      <td>0.001415</td>\n",
       "      <td>0.001415</td>\n",
       "    </tr>\n",
       "    <tr>\n",
       "      <th>1</th>\n",
       "      <td>0.001421</td>\n",
       "      <td>0.001431</td>\n",
       "      <td>0.001125</td>\n",
       "      <td>0.001163</td>\n",
       "      <td>0.001163</td>\n",
       "    </tr>\n",
       "    <tr>\n",
       "      <th>2</th>\n",
       "      <td>0.001146</td>\n",
       "      <td>0.001257</td>\n",
       "      <td>0.001141</td>\n",
       "      <td>0.001201</td>\n",
       "      <td>0.001201</td>\n",
       "    </tr>\n",
       "    <tr>\n",
       "      <th>3</th>\n",
       "      <td>0.001189</td>\n",
       "      <td>0.001210</td>\n",
       "      <td>0.001002</td>\n",
       "      <td>0.001038</td>\n",
       "      <td>0.001038</td>\n",
       "    </tr>\n",
       "    <tr>\n",
       "      <th>4</th>\n",
       "      <td>0.001046</td>\n",
       "      <td>0.001212</td>\n",
       "      <td>0.001019</td>\n",
       "      <td>0.001211</td>\n",
       "      <td>0.001211</td>\n",
       "    </tr>\n",
       "    <tr>\n",
       "      <th>...</th>\n",
       "      <td>...</td>\n",
       "      <td>...</td>\n",
       "      <td>...</td>\n",
       "      <td>...</td>\n",
       "      <td>...</td>\n",
       "    </tr>\n",
       "    <tr>\n",
       "      <th>2030</th>\n",
       "      <td>0.071662</td>\n",
       "      <td>0.072119</td>\n",
       "      <td>0.070882</td>\n",
       "      <td>0.071492</td>\n",
       "      <td>0.071492</td>\n",
       "    </tr>\n",
       "    <tr>\n",
       "      <th>2031</th>\n",
       "      <td>0.071490</td>\n",
       "      <td>0.073198</td>\n",
       "      <td>0.071168</td>\n",
       "      <td>0.072612</td>\n",
       "      <td>0.072612</td>\n",
       "    </tr>\n",
       "    <tr>\n",
       "      <th>2032</th>\n",
       "      <td>0.072610</td>\n",
       "      <td>0.072947</td>\n",
       "      <td>0.072334</td>\n",
       "      <td>0.072671</td>\n",
       "      <td>0.072671</td>\n",
       "    </tr>\n",
       "    <tr>\n",
       "      <th>2033</th>\n",
       "      <td>0.072672</td>\n",
       "      <td>0.073250</td>\n",
       "      <td>0.072466</td>\n",
       "      <td>0.072471</td>\n",
       "      <td>0.072471</td>\n",
       "    </tr>\n",
       "    <tr>\n",
       "      <th>2034</th>\n",
       "      <td>0.072475</td>\n",
       "      <td>0.072632</td>\n",
       "      <td>0.064828</td>\n",
       "      <td>0.066573</td>\n",
       "      <td>0.066573</td>\n",
       "    </tr>\n",
       "  </tbody>\n",
       "</table>\n",
       "<p>2035 rows × 5 columns</p>\n",
       "</div>"
      ],
      "text/plain": [
       "          Open      High       Low     Close  Adj Close\n",
       "0     0.001207  0.001415  0.001181  0.001415   0.001415\n",
       "1     0.001421  0.001431  0.001125  0.001163   0.001163\n",
       "2     0.001146  0.001257  0.001141  0.001201   0.001201\n",
       "3     0.001189  0.001210  0.001002  0.001038   0.001038\n",
       "4     0.001046  0.001212  0.001019  0.001211   0.001211\n",
       "...        ...       ...       ...       ...        ...\n",
       "2030  0.071662  0.072119  0.070882  0.071492   0.071492\n",
       "2031  0.071490  0.073198  0.071168  0.072612   0.072612\n",
       "2032  0.072610  0.072947  0.072334  0.072671   0.072671\n",
       "2033  0.072672  0.073250  0.072466  0.072471   0.072471\n",
       "2034  0.072475  0.072632  0.064828  0.066573   0.066573\n",
       "\n",
       "[2035 rows x 5 columns]"
      ]
     },
     "execution_count": 41,
     "metadata": {},
     "output_type": "execute_result"
    }
   ],
   "source": [
    "X = df.iloc[:,1:6]\n",
    "X"
   ]
  },
  {
   "cell_type": "code",
   "execution_count": 42,
   "metadata": {},
   "outputs": [
    {
     "data": {
      "text/plain": [
       "array([[0.001207, 0.001415, 0.001181, 0.001415, 0.001415],\n",
       "       [0.001421, 0.001431, 0.001125, 0.001163, 0.001163],\n",
       "       [0.001146, 0.001257, 0.001141, 0.001201, 0.001201],\n",
       "       ...,\n",
       "       [0.07261 , 0.072947, 0.072334, 0.072671, 0.072671],\n",
       "       [0.072672, 0.07325 , 0.072466, 0.072471, 0.072471],\n",
       "       [0.072475, 0.072632, 0.064828, 0.066573, 0.066573]])"
      ]
     },
     "execution_count": 42,
     "metadata": {},
     "output_type": "execute_result"
    }
   ],
   "source": [
    "X = df.iloc[:, 1:6].values\n",
    "X"
   ]
  },
  {
   "cell_type": "code",
   "execution_count": 43,
   "metadata": {},
   "outputs": [
    {
     "data": {
      "text/plain": [
       "array([-1,  1, -1, ..., -1, -1, -1])"
      ]
     },
     "execution_count": 43,
     "metadata": {},
     "output_type": "execute_result"
    }
   ],
   "source": [
    "y = df.iloc[:,7].values\n",
    "y"
   ]
  },
  {
   "cell_type": "markdown",
   "metadata": {},
   "source": [
    "### Split Data into training and testing:\n",
    "\n",
    "Train-test splitting"
   ]
  },
  {
   "cell_type": "code",
   "execution_count": 44,
   "metadata": {},
   "outputs": [],
   "source": [
    "from sklearn.model_selection import train_test_split"
   ]
  },
  {
   "cell_type": "code",
   "execution_count": 45,
   "metadata": {},
   "outputs": [],
   "source": [
    "X_train, X_test, y_train, y_test = train_test_split(X, y, test_size=0.2)"
   ]
  },
  {
   "cell_type": "code",
   "execution_count": 46,
   "metadata": {},
   "outputs": [
    {
     "data": {
      "text/plain": [
       "(1628, 5)"
      ]
     },
     "execution_count": 46,
     "metadata": {},
     "output_type": "execute_result"
    }
   ],
   "source": [
    "X_train.shape"
   ]
  },
  {
   "cell_type": "code",
   "execution_count": 47,
   "metadata": {},
   "outputs": [
    {
     "data": {
      "text/plain": [
       "(407, 5)"
      ]
     },
     "execution_count": 47,
     "metadata": {},
     "output_type": "execute_result"
    }
   ],
   "source": [
    "X_test.shape"
   ]
  },
  {
   "cell_type": "code",
   "execution_count": 48,
   "metadata": {},
   "outputs": [
    {
     "data": {
      "text/plain": [
       "(407,)"
      ]
     },
     "execution_count": 48,
     "metadata": {},
     "output_type": "execute_result"
    }
   ],
   "source": [
    "y_test.shape"
   ]
  },
  {
   "cell_type": "code",
   "execution_count": 49,
   "metadata": {},
   "outputs": [
    {
     "data": {
      "text/plain": [
       "(1628,)"
      ]
     },
     "execution_count": 49,
     "metadata": {},
     "output_type": "execute_result"
    }
   ],
   "source": [
    "y_train.shape"
   ]
  },
  {
   "cell_type": "markdown",
   "metadata": {},
   "source": [
    "### Scaling the data"
   ]
  },
  {
   "cell_type": "code",
   "execution_count": 50,
   "metadata": {},
   "outputs": [
    {
     "data": {
      "text/plain": [
       "array([[ 1.36179264,  1.25678832,  1.34578197,  1.21692992,  1.21692992],\n",
       "       [-0.64649526, -0.63227275, -0.66102378, -0.64576951, -0.64576951],\n",
       "       [ 2.77193553,  2.58535604,  2.86392468,  2.70333258,  2.70333258],\n",
       "       ...,\n",
       "       [-0.64079251, -0.62710724, -0.65409523, -0.64015818, -0.64015818],\n",
       "       [ 0.75429609,  0.66577704,  0.75581816,  0.67482112,  0.67482112],\n",
       "       [-0.62368424, -0.61109516, -0.63935438, -0.62506752, -0.62506752]])"
      ]
     },
     "execution_count": 50,
     "metadata": {},
     "output_type": "execute_result"
    }
   ],
   "source": [
    "from sklearn.preprocessing import StandardScaler\n",
    "\n",
    "standard_scaler = StandardScaler()\n",
    "\n",
    "standard_scaler.fit(X_train)\n",
    "\n",
    "X_train_scaled = standard_scaler.transform(X_train)\n",
    "X_train_scaled"
   ]
  },
  {
   "cell_type": "code",
   "execution_count": 51,
   "metadata": {},
   "outputs": [
    {
     "data": {
      "text/plain": [
       "array([[-0.62967948, -0.62117544, -0.64657423, -0.63281037, -0.63281037],\n",
       "       [ 0.95582621,  0.8779741 ,  0.99441543,  0.94119302,  0.94119302],\n",
       "       [ 0.1322679 ,  0.09355002,  0.1387001 ,  0.11450392,  0.11450392],\n",
       "       ...,\n",
       "       [-0.62458626, -0.61588098, -0.64083276, -0.6271727 , -0.6271727 ],\n",
       "       [ 2.88810623,  3.31852482,  3.17714043,  3.55418357,  3.55418357],\n",
       "       [ 0.70022808,  0.66973125,  0.6092844 ,  0.56510753,  0.56510753]])"
      ]
     },
     "execution_count": 51,
     "metadata": {},
     "output_type": "execute_result"
    }
   ],
   "source": [
    "standard_scaler.fit(X_test)\n",
    "X_test_scaled = standard_scaler.transform(X_test)\n",
    "X_test_scaled"
   ]
  },
  {
   "cell_type": "code",
   "execution_count": 52,
   "metadata": {},
   "outputs": [
    {
     "data": {
      "text/plain": [
       "array([ 1,  1, -1, -1, -1,  1,  1, -1,  1,  1,  1, -1,  1, -1, -1, -1,  1,\n",
       "        1, -1,  1,  1, -1,  1, -1,  1, -1, -1, -1, -1, -1,  1, -1,  1,  1,\n",
       "        1,  1, -1, -1,  1, -1, -1,  1, -1,  1,  1, -1, -1, -1, -1, -1,  1,\n",
       "       -1,  1, -1,  1,  1, -1,  1, -1,  1, -1,  1,  1,  1,  1,  1, -1, -1,\n",
       "       -1,  1, -1, -1,  1, -1,  1, -1, -1, -1, -1,  1, -1,  1,  1, -1,  1,\n",
       "       -1,  1,  1, -1, -1,  1,  1, -1, -1,  1,  1,  1, -1,  1,  1,  1,  1,\n",
       "       -1, -1, -1, -1,  1, -1,  1,  1,  1, -1, -1,  1, -1, -1, -1, -1,  1,\n",
       "       -1, -1, -1,  1,  1, -1,  1,  1,  1,  1,  1, -1,  1,  1, -1,  1, -1,\n",
       "        1,  1, -1,  1, -1,  1, -1,  1,  1,  1,  1, -1, -1, -1,  1, -1, -1,\n",
       "       -1, -1,  1, -1,  1,  1,  1, -1, -1, -1, -1, -1, -1, -1,  1,  1, -1,\n",
       "        1, -1,  1, -1,  1, -1, -1, -1,  1,  1,  1, -1,  1,  1, -1, -1, -1,\n",
       "        1,  1,  1,  1, -1,  1, -1,  1,  1, -1,  1, -1,  1,  1,  1,  1, -1,\n",
       "       -1, -1, -1,  1, -1,  1, -1, -1, -1, -1,  1, -1, -1,  1,  1, -1,  1,\n",
       "        1, -1,  1,  1,  1,  1, -1,  1,  1,  1, -1,  1, -1, -1, -1, -1,  1,\n",
       "       -1, -1,  1, -1, -1, -1,  1,  1, -1,  1, -1, -1, -1, -1,  1, -1,  1,\n",
       "        1,  1,  1, -1,  1, -1,  1,  1,  1, -1,  1, -1, -1, -1, -1, -1,  1,\n",
       "        1, -1,  1, -1, -1,  1, -1, -1,  1, -1, -1, -1,  1,  1, -1,  1, -1,\n",
       "        1,  1, -1, -1,  1,  1,  1,  1,  1, -1,  1, -1, -1, -1,  1,  1,  1,\n",
       "       -1, -1,  1, -1,  1,  1,  1, -1,  1, -1, -1, -1,  1,  1, -1,  1, -1,\n",
       "       -1,  1,  1,  1,  1, -1,  1,  1,  1,  1,  1, -1,  1,  1, -1, -1, -1,\n",
       "        1,  1,  1,  1,  1, -1, -1,  1, -1, -1, -1, -1, -1,  1,  1,  1,  1,\n",
       "       -1,  1,  1, -1,  1,  1, -1, -1,  1,  1, -1,  1,  1,  1, -1, -1, -1,\n",
       "       -1, -1, -1, -1,  1, -1,  1, -1, -1,  1, -1, -1,  1, -1,  1, -1,  1,\n",
       "        1, -1, -1, -1, -1, -1,  1,  1,  1,  1,  1,  1,  1, -1,  1, -1])"
      ]
     },
     "execution_count": 52,
     "metadata": {},
     "output_type": "execute_result"
    }
   ],
   "source": [
    "y_test"
   ]
  },
  {
   "cell_type": "code",
   "execution_count": 62,
   "metadata": {},
   "outputs": [
    {
     "data": {
      "text/html": [
       "<style>#sk-container-id-3 {color: black;}#sk-container-id-3 pre{padding: 0;}#sk-container-id-3 div.sk-toggleable {background-color: white;}#sk-container-id-3 label.sk-toggleable__label {cursor: pointer;display: block;width: 100%;margin-bottom: 0;padding: 0.3em;box-sizing: border-box;text-align: center;}#sk-container-id-3 label.sk-toggleable__label-arrow:before {content: \"▸\";float: left;margin-right: 0.25em;color: #696969;}#sk-container-id-3 label.sk-toggleable__label-arrow:hover:before {color: black;}#sk-container-id-3 div.sk-estimator:hover label.sk-toggleable__label-arrow:before {color: black;}#sk-container-id-3 div.sk-toggleable__content {max-height: 0;max-width: 0;overflow: hidden;text-align: left;background-color: #f0f8ff;}#sk-container-id-3 div.sk-toggleable__content pre {margin: 0.2em;color: black;border-radius: 0.25em;background-color: #f0f8ff;}#sk-container-id-3 input.sk-toggleable__control:checked~div.sk-toggleable__content {max-height: 200px;max-width: 100%;overflow: auto;}#sk-container-id-3 input.sk-toggleable__control:checked~label.sk-toggleable__label-arrow:before {content: \"▾\";}#sk-container-id-3 div.sk-estimator input.sk-toggleable__control:checked~label.sk-toggleable__label {background-color: #d4ebff;}#sk-container-id-3 div.sk-label input.sk-toggleable__control:checked~label.sk-toggleable__label {background-color: #d4ebff;}#sk-container-id-3 input.sk-hidden--visually {border: 0;clip: rect(1px 1px 1px 1px);clip: rect(1px, 1px, 1px, 1px);height: 1px;margin: -1px;overflow: hidden;padding: 0;position: absolute;width: 1px;}#sk-container-id-3 div.sk-estimator {font-family: monospace;background-color: #f0f8ff;border: 1px dotted black;border-radius: 0.25em;box-sizing: border-box;margin-bottom: 0.5em;}#sk-container-id-3 div.sk-estimator:hover {background-color: #d4ebff;}#sk-container-id-3 div.sk-parallel-item::after {content: \"\";width: 100%;border-bottom: 1px solid gray;flex-grow: 1;}#sk-container-id-3 div.sk-label:hover label.sk-toggleable__label {background-color: #d4ebff;}#sk-container-id-3 div.sk-serial::before {content: \"\";position: absolute;border-left: 1px solid gray;box-sizing: border-box;top: 0;bottom: 0;left: 50%;z-index: 0;}#sk-container-id-3 div.sk-serial {display: flex;flex-direction: column;align-items: center;background-color: white;padding-right: 0.2em;padding-left: 0.2em;position: relative;}#sk-container-id-3 div.sk-item {position: relative;z-index: 1;}#sk-container-id-3 div.sk-parallel {display: flex;align-items: stretch;justify-content: center;background-color: white;position: relative;}#sk-container-id-3 div.sk-item::before, #sk-container-id-3 div.sk-parallel-item::before {content: \"\";position: absolute;border-left: 1px solid gray;box-sizing: border-box;top: 0;bottom: 0;left: 50%;z-index: -1;}#sk-container-id-3 div.sk-parallel-item {display: flex;flex-direction: column;z-index: 1;position: relative;background-color: white;}#sk-container-id-3 div.sk-parallel-item:first-child::after {align-self: flex-end;width: 50%;}#sk-container-id-3 div.sk-parallel-item:last-child::after {align-self: flex-start;width: 50%;}#sk-container-id-3 div.sk-parallel-item:only-child::after {width: 0;}#sk-container-id-3 div.sk-dashed-wrapped {border: 1px dashed gray;margin: 0 0.4em 0.5em 0.4em;box-sizing: border-box;padding-bottom: 0.4em;background-color: white;}#sk-container-id-3 div.sk-label label {font-family: monospace;font-weight: bold;display: inline-block;line-height: 1.2em;}#sk-container-id-3 div.sk-label-container {text-align: center;}#sk-container-id-3 div.sk-container {/* jupyter's `normalize.less` sets `[hidden] { display: none; }` but bootstrap.min.css set `[hidden] { display: none !important; }` so we also need the `!important` here to be able to override the default hidden behavior on the sphinx rendered scikit-learn.org. See: https://github.com/scikit-learn/scikit-learn/issues/21755 */display: inline-block !important;position: relative;}#sk-container-id-3 div.sk-text-repr-fallback {display: none;}</style><div id=\"sk-container-id-3\" class=\"sk-top-container\"><div class=\"sk-text-repr-fallback\"><pre>KNeighborsClassifier()</pre><b>In a Jupyter environment, please rerun this cell to show the HTML representation or trust the notebook. <br />On GitHub, the HTML representation is unable to render, please try loading this page with nbviewer.org.</b></div><div class=\"sk-container\" hidden><div class=\"sk-item\"><div class=\"sk-estimator sk-toggleable\"><input class=\"sk-toggleable__control sk-hidden--visually\" id=\"sk-estimator-id-3\" type=\"checkbox\" checked><label for=\"sk-estimator-id-3\" class=\"sk-toggleable__label sk-toggleable__label-arrow\">KNeighborsClassifier</label><div class=\"sk-toggleable__content\"><pre>KNeighborsClassifier()</pre></div></div></div></div></div>"
      ],
      "text/plain": [
       "KNeighborsClassifier()"
      ]
     },
     "execution_count": 62,
     "metadata": {},
     "output_type": "execute_result"
    }
   ],
   "source": [
    "from sklearn.neighbors import KNeighborsClassifier\n",
    "model = KNeighborsClassifier(n_neighbors=5)\n",
    "model.fit(X_train_scaled, y_train)"
   ]
  },
  {
   "cell_type": "code",
   "execution_count": 63,
   "metadata": {},
   "outputs": [
    {
     "data": {
      "text/plain": [
       "array([-1,  1,  1, -1, -1,  1,  1, -1,  1,  1,  1,  1, -1, -1,  1, -1, -1,\n",
       "       -1,  1, -1,  1,  1, -1, -1,  1, -1,  1, -1,  1, -1,  1,  1, -1, -1,\n",
       "        1, -1, -1,  1, -1,  1, -1,  1, -1, -1, -1,  1, -1, -1, -1, -1,  1,\n",
       "        1,  1,  1,  1, -1,  1,  1, -1,  1, -1, -1,  1, -1,  1,  1,  1, -1,\n",
       "        1,  1,  1, -1, -1, -1, -1,  1, -1, -1,  1, -1,  1, -1,  1, -1, -1,\n",
       "       -1,  1, -1,  1,  1, -1,  1, -1, -1, -1,  1,  1,  1,  1, -1, -1, -1,\n",
       "        1,  1, -1,  1, -1, -1,  1,  1, -1, -1, -1, -1,  1, -1, -1, -1, -1,\n",
       "       -1, -1,  1,  1, -1, -1, -1, -1, -1,  1,  1,  1,  1,  1,  1, -1, -1,\n",
       "       -1, -1, -1, -1,  1,  1,  1, -1, -1, -1,  1, -1, -1,  1,  1,  1,  1,\n",
       "        1, -1,  1, -1, -1, -1,  1,  1, -1,  1,  1,  1, -1, -1,  1,  1,  1,\n",
       "       -1,  1,  1,  1, -1,  1, -1, -1,  1, -1,  1, -1, -1, -1, -1,  1, -1,\n",
       "        1, -1, -1, -1, -1, -1, -1, -1,  1,  1,  1,  1,  1,  1,  1,  1,  1,\n",
       "        1, -1, -1, -1,  1, -1,  1,  1, -1, -1, -1,  1, -1, -1,  1, -1,  1,\n",
       "        1,  1, -1, -1, -1,  1,  1, -1, -1,  1, -1,  1,  1, -1,  1, -1,  1,\n",
       "       -1,  1,  1, -1,  1,  1,  1, -1,  1, -1, -1,  1, -1, -1, -1, -1, -1,\n",
       "       -1,  1, -1,  1, -1, -1, -1,  1,  1, -1,  1,  1,  1,  1,  1,  1,  1,\n",
       "        1, -1,  1, -1,  1,  1, -1, -1, -1, -1, -1, -1, -1, -1, -1, -1, -1,\n",
       "       -1, -1,  1, -1,  1, -1, -1, -1, -1,  1,  1, -1, -1,  1, -1, -1, -1,\n",
       "       -1, -1, -1,  1,  1, -1,  1,  1,  1, -1, -1, -1,  1,  1,  1, -1, -1,\n",
       "       -1, -1, -1,  1, -1,  1,  1, -1, -1,  1, -1, -1,  1, -1, -1,  1,  1,\n",
       "        1, -1,  1,  1,  1, -1, -1, -1, -1, -1,  1, -1, -1,  1, -1, -1, -1,\n",
       "        1,  1, -1, -1,  1,  1, -1, -1, -1, -1,  1, -1, -1,  1, -1, -1,  1,\n",
       "       -1,  1,  1, -1,  1, -1, -1,  1, -1,  1,  1, -1, -1,  1,  1,  1, -1,\n",
       "       -1, -1, -1, -1,  1, -1,  1,  1,  1, -1, -1, -1, -1, -1, -1, -1])"
      ]
     },
     "execution_count": 63,
     "metadata": {},
     "output_type": "execute_result"
    }
   ],
   "source": [
    "model.predict(X_test_scaled)"
   ]
  },
  {
   "cell_type": "markdown",
   "metadata": {},
   "source": [
    "### Model's Prediction"
   ]
  },
  {
   "cell_type": "code",
   "execution_count": 64,
   "metadata": {},
   "outputs": [
    {
     "data": {
      "text/plain": [
       "array([-1,  1,  1, -1, -1,  1,  1, -1,  1,  1,  1,  1, -1, -1,  1, -1, -1,\n",
       "       -1,  1, -1,  1,  1, -1, -1,  1, -1,  1, -1,  1, -1,  1,  1, -1, -1,\n",
       "        1, -1, -1,  1, -1,  1, -1,  1, -1, -1, -1,  1, -1, -1, -1, -1,  1,\n",
       "        1,  1,  1,  1, -1,  1,  1, -1,  1, -1, -1,  1, -1,  1,  1,  1, -1,\n",
       "        1,  1,  1, -1, -1, -1, -1,  1, -1, -1,  1, -1,  1, -1,  1, -1, -1,\n",
       "       -1,  1, -1,  1,  1, -1,  1, -1, -1, -1,  1,  1,  1,  1, -1, -1, -1,\n",
       "        1,  1, -1,  1, -1, -1,  1,  1, -1, -1, -1, -1,  1, -1, -1, -1, -1,\n",
       "       -1, -1,  1,  1, -1, -1, -1, -1, -1,  1,  1,  1,  1,  1,  1, -1, -1,\n",
       "       -1, -1, -1, -1,  1,  1,  1, -1, -1, -1,  1, -1, -1,  1,  1,  1,  1,\n",
       "        1, -1,  1, -1, -1, -1,  1,  1, -1,  1,  1,  1, -1, -1,  1,  1,  1,\n",
       "       -1,  1,  1,  1, -1,  1, -1, -1,  1, -1,  1, -1, -1, -1, -1,  1, -1,\n",
       "        1, -1, -1, -1, -1, -1, -1, -1,  1,  1,  1,  1,  1,  1,  1,  1,  1,\n",
       "        1, -1, -1, -1,  1, -1,  1,  1, -1, -1, -1,  1, -1, -1,  1, -1,  1,\n",
       "        1,  1, -1, -1, -1,  1,  1, -1, -1,  1, -1,  1,  1, -1,  1, -1,  1,\n",
       "       -1,  1,  1, -1,  1,  1,  1, -1,  1, -1, -1,  1, -1, -1, -1, -1, -1,\n",
       "       -1,  1, -1,  1, -1, -1, -1,  1,  1, -1,  1,  1,  1,  1,  1,  1,  1,\n",
       "        1, -1,  1, -1,  1,  1, -1, -1, -1, -1, -1, -1, -1, -1, -1, -1, -1,\n",
       "       -1, -1,  1, -1,  1, -1, -1, -1, -1,  1,  1, -1, -1,  1, -1, -1, -1,\n",
       "       -1, -1, -1,  1,  1, -1,  1,  1,  1, -1, -1, -1,  1,  1,  1, -1, -1,\n",
       "       -1, -1, -1,  1, -1,  1,  1, -1, -1,  1, -1, -1,  1, -1, -1,  1,  1,\n",
       "        1, -1,  1,  1,  1, -1, -1, -1, -1, -1,  1, -1, -1,  1, -1, -1, -1,\n",
       "        1,  1, -1, -1,  1,  1, -1, -1, -1, -1,  1, -1, -1,  1, -1, -1,  1,\n",
       "       -1,  1,  1, -1,  1, -1, -1,  1, -1,  1,  1, -1, -1,  1,  1,  1, -1,\n",
       "       -1, -1, -1, -1,  1, -1,  1,  1,  1, -1, -1, -1, -1, -1, -1, -1])"
      ]
     },
     "execution_count": 64,
     "metadata": {},
     "output_type": "execute_result"
    }
   ],
   "source": [
    "y_prediction = model.predict(X_test_scaled)\n",
    "y_prediction"
   ]
  },
  {
   "cell_type": "markdown",
   "metadata": {},
   "source": [
    "### Model Comparison Using Confusion Matrix"
   ]
  },
  {
   "cell_type": "code",
   "execution_count": 65,
   "metadata": {},
   "outputs": [],
   "source": [
    "from sklearn.metrics import confusion_matrix"
   ]
  },
  {
   "cell_type": "code",
   "execution_count": 66,
   "metadata": {},
   "outputs": [
    {
     "data": {
      "text/plain": [
       "array([[113,  89],\n",
       "       [112,  93]], dtype=int64)"
      ]
     },
     "execution_count": 66,
     "metadata": {},
     "output_type": "execute_result"
    }
   ],
   "source": [
    "confusion_matrix(y_test, y_prediction)"
   ]
  },
  {
   "cell_type": "code",
   "execution_count": 67,
   "metadata": {},
   "outputs": [
    {
     "data": {
      "text/html": [
       "<div>\n",
       "<style scoped>\n",
       "    .dataframe tbody tr th:only-of-type {\n",
       "        vertical-align: middle;\n",
       "    }\n",
       "\n",
       "    .dataframe tbody tr th {\n",
       "        vertical-align: top;\n",
       "    }\n",
       "\n",
       "    .dataframe thead th {\n",
       "        text-align: right;\n",
       "    }\n",
       "</style>\n",
       "<table border=\"1\" class=\"dataframe\">\n",
       "  <thead>\n",
       "    <tr style=\"text-align: right;\">\n",
       "      <th></th>\n",
       "      <th>0</th>\n",
       "      <th>1</th>\n",
       "    </tr>\n",
       "  </thead>\n",
       "  <tbody>\n",
       "    <tr>\n",
       "      <th>0</th>\n",
       "      <td>113</td>\n",
       "      <td>89</td>\n",
       "    </tr>\n",
       "    <tr>\n",
       "      <th>1</th>\n",
       "      <td>112</td>\n",
       "      <td>93</td>\n",
       "    </tr>\n",
       "  </tbody>\n",
       "</table>\n",
       "</div>"
      ],
      "text/plain": [
       "     0   1\n",
       "0  113  89\n",
       "1  112  93"
      ]
     },
     "execution_count": 67,
     "metadata": {},
     "output_type": "execute_result"
    }
   ],
   "source": [
    "# convert confusion matrix into a dataframe\n",
    "\n",
    "matrix = confusion_matrix(y_test, y_prediction)\n",
    "\n",
    "pd.DataFrame(matrix)"
   ]
  },
  {
   "cell_type": "markdown",
   "metadata": {},
   "source": [
    "### Get Classification Report"
   ]
  },
  {
   "cell_type": "code",
   "execution_count": 68,
   "metadata": {},
   "outputs": [
    {
     "name": "stdout",
     "output_type": "stream",
     "text": [
      "              precision    recall  f1-score   support\n",
      "\n",
      "          -1       0.50      0.56      0.53       202\n",
      "           1       0.51      0.45      0.48       205\n",
      "\n",
      "    accuracy                           0.51       407\n",
      "   macro avg       0.51      0.51      0.50       407\n",
      "weighted avg       0.51      0.51      0.50       407\n",
      "\n"
     ]
    }
   ],
   "source": [
    "from sklearn.metrics import classification_report\n",
    "\n",
    "print(classification_report(y_test, y_prediction))"
   ]
  },
  {
   "cell_type": "markdown",
   "metadata": {},
   "source": [
    "### Finding the best value of K :\n",
    "\n",
    "Calculating the error for different k-values"
   ]
  },
  {
   "cell_type": "code",
   "execution_count": 69,
   "metadata": {},
   "outputs": [
    {
     "data": {
      "text/plain": [
       "[0.4987714987714988,\n",
       " 0.5233415233415234,\n",
       " 0.5405405405405406,\n",
       " 0.515970515970516,\n",
       " 0.49385749385749383,\n",
       " 0.515970515970516,\n",
       " 0.515970515970516,\n",
       " 0.5085995085995086,\n",
       " 0.5036855036855037,\n",
       " 0.5257985257985258,\n",
       " 0.5356265356265356,\n",
       " 0.5331695331695332,\n",
       " 0.5135135135135135,\n",
       " 0.5331695331695332,\n",
       " 0.538083538083538,\n",
       " 0.5405405405405406,\n",
       " 0.547911547911548,\n",
       " 0.538083538083538,\n",
       " 0.5233415233415234,\n",
       " 0.5405405405405406,\n",
       " 0.5282555282555282,\n",
       " 0.5135135135135135,\n",
       " 0.5110565110565111,\n",
       " 0.515970515970516,\n",
       " 0.5208845208845209,\n",
       " 0.5405405405405406,\n",
       " 0.5208845208845209,\n",
       " 0.5085995085995086,\n",
       " 0.5257985257985258]"
      ]
     },
     "execution_count": 69,
     "metadata": {},
     "output_type": "execute_result"
    }
   ],
   "source": [
    "K_MIN = 1\n",
    "K_MAX = 30\n",
    "errors =[]\n",
    "\n",
    "for i in range(K_MIN, K_MAX):\n",
    "    model = KNeighborsClassifier(n_neighbors = i)\n",
    "    model.fit(X_train_scaled, y_train)\n",
    "    y_prediction = model.predict(X_test_scaled)\n",
    "\n",
    "    errors.append(np.mean(y_prediction != y_test))\n",
    "errors"
   ]
  },
  {
   "cell_type": "code",
   "execution_count": 61,
   "metadata": {},
   "outputs": [
    {
     "data": {
      "text/plain": [
       "Text(0, 0.5, 'Error')"
      ]
     },
     "execution_count": 61,
     "metadata": {},
     "output_type": "execute_result"
    },
    {
     "data": {
      "image/png": "[encoded data removed]",
      "text/plain": [
       "<Figure size 1500x1000 with 1 Axes>"
      ]
     },
     "metadata": {},
     "output_type": "display_data"
    }
   ],
   "source": [
    "import matplotlib.pyplot as plt\n",
    "\n",
    "plt.figure(figsize=(15, 10))\n",
    "plt.plot(range(K_MIN, K_MAX), errors, marker=\"o\")\n",
    "plt.xlabel(\"K (Neighbors)\")\n",
    "plt.ylabel(\"Error\")"
   ]
  }
 ],
 "metadata": {
  "kernelspec": {
   "display_name": "tf-gpu-env",
   "language": "python",
   "name": "python3"
  },
  "language_info": {
   "codemirror_mode": {
    "name": "ipython",
    "version": 3
   },
   "file_extension": ".py",
   "mimetype": "text/x-python",
   "name": "python",
   "nbconvert_exporter": "python",
   "pygments_lexer": "ipython3",
   "version": "3.10.9"
  },
  "orig_nbformat": 4
 },
 "nbformat": 4,
 "nbformat_minor": 2
}

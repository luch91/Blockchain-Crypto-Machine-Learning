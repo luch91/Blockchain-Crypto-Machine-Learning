{
 "cells": [
  {
   "cell_type": "code",
   "execution_count": 6,
   "metadata": {},
   "outputs": [],
   "source": [
    "import yfinance\n",
    "import numpy as np\n",
    "import pandas as pd"
   ]
  },
  {
   "cell_type": "code",
   "execution_count": 3,
   "metadata": {},
   "outputs": [
    {
     "name": "stdout",
     "output_type": "stream",
     "text": [
      "[*********************100%%**********************]  1 of 1 completed\n"
     ]
    },
    {
     "data": {
      "text/html": [
       "<div>\n",
       "<style scoped>\n",
       "    .dataframe tbody tr th:only-of-type {\n",
       "        vertical-align: middle;\n",
       "    }\n",
       "\n",
       "    .dataframe tbody tr th {\n",
       "        vertical-align: top;\n",
       "    }\n",
       "\n",
       "    .dataframe thead th {\n",
       "        text-align: right;\n",
       "    }\n",
       "</style>\n",
       "<table border=\"1\" class=\"dataframe\">\n",
       "  <thead>\n",
       "    <tr style=\"text-align: right;\">\n",
       "      <th></th>\n",
       "      <th>Open</th>\n",
       "      <th>High</th>\n",
       "      <th>Low</th>\n",
       "      <th>Close</th>\n",
       "      <th>Adj Close</th>\n",
       "      <th>Volume</th>\n",
       "    </tr>\n",
       "    <tr>\n",
       "      <th>Date</th>\n",
       "      <th></th>\n",
       "      <th></th>\n",
       "      <th></th>\n",
       "      <th></th>\n",
       "      <th></th>\n",
       "      <th></th>\n",
       "    </tr>\n",
       "  </thead>\n",
       "  <tbody>\n",
       "    <tr>\n",
       "      <th>2017-11-09</th>\n",
       "      <td>308.644989</td>\n",
       "      <td>329.451996</td>\n",
       "      <td>307.056000</td>\n",
       "      <td>320.884003</td>\n",
       "      <td>320.884003</td>\n",
       "      <td>893249984</td>\n",
       "    </tr>\n",
       "    <tr>\n",
       "      <th>2017-11-10</th>\n",
       "      <td>320.670990</td>\n",
       "      <td>324.717987</td>\n",
       "      <td>294.541992</td>\n",
       "      <td>299.252991</td>\n",
       "      <td>299.252991</td>\n",
       "      <td>885985984</td>\n",
       "    </tr>\n",
       "    <tr>\n",
       "      <th>2017-11-11</th>\n",
       "      <td>298.585999</td>\n",
       "      <td>319.453003</td>\n",
       "      <td>298.191986</td>\n",
       "      <td>314.681000</td>\n",
       "      <td>314.681000</td>\n",
       "      <td>842300992</td>\n",
       "    </tr>\n",
       "    <tr>\n",
       "      <th>2017-11-12</th>\n",
       "      <td>314.690002</td>\n",
       "      <td>319.153015</td>\n",
       "      <td>298.513000</td>\n",
       "      <td>307.907990</td>\n",
       "      <td>307.907990</td>\n",
       "      <td>1613479936</td>\n",
       "    </tr>\n",
       "    <tr>\n",
       "      <th>2017-11-13</th>\n",
       "      <td>307.024994</td>\n",
       "      <td>328.415009</td>\n",
       "      <td>307.024994</td>\n",
       "      <td>316.716003</td>\n",
       "      <td>316.716003</td>\n",
       "      <td>1041889984</td>\n",
       "    </tr>\n",
       "    <tr>\n",
       "      <th>...</th>\n",
       "      <td>...</td>\n",
       "      <td>...</td>\n",
       "      <td>...</td>\n",
       "      <td>...</td>\n",
       "      <td>...</td>\n",
       "      <td>...</td>\n",
       "    </tr>\n",
       "    <tr>\n",
       "      <th>2023-09-25</th>\n",
       "      <td>1580.747437</td>\n",
       "      <td>1595.844116</td>\n",
       "      <td>1565.025513</td>\n",
       "      <td>1588.322876</td>\n",
       "      <td>1588.322876</td>\n",
       "      <td>4394930984</td>\n",
       "    </tr>\n",
       "    <tr>\n",
       "      <th>2023-09-26</th>\n",
       "      <td>1588.023193</td>\n",
       "      <td>1598.097778</td>\n",
       "      <td>1580.165527</td>\n",
       "      <td>1593.417236</td>\n",
       "      <td>1593.417236</td>\n",
       "      <td>3544861160</td>\n",
       "    </tr>\n",
       "    <tr>\n",
       "      <th>2023-09-27</th>\n",
       "      <td>1593.108276</td>\n",
       "      <td>1631.910767</td>\n",
       "      <td>1585.368896</td>\n",
       "      <td>1597.491211</td>\n",
       "      <td>1597.491211</td>\n",
       "      <td>5533036096</td>\n",
       "    </tr>\n",
       "    <tr>\n",
       "      <th>2023-09-28</th>\n",
       "      <td>1597.671997</td>\n",
       "      <td>1666.024170</td>\n",
       "      <td>1597.294678</td>\n",
       "      <td>1652.882690</td>\n",
       "      <td>1652.882690</td>\n",
       "      <td>6658092168</td>\n",
       "    </tr>\n",
       "    <tr>\n",
       "      <th>2023-09-29</th>\n",
       "      <td>1652.999878</td>\n",
       "      <td>1687.281250</td>\n",
       "      <td>1648.656494</td>\n",
       "      <td>1667.943848</td>\n",
       "      <td>1667.943848</td>\n",
       "      <td>5529687537</td>\n",
       "    </tr>\n",
       "  </tbody>\n",
       "</table>\n",
       "<p>2151 rows × 6 columns</p>\n",
       "</div>"
      ],
      "text/plain": [
       "                   Open         High          Low        Close    Adj Close  \\\n",
       "Date                                                                          \n",
       "2017-11-09   308.644989   329.451996   307.056000   320.884003   320.884003   \n",
       "2017-11-10   320.670990   324.717987   294.541992   299.252991   299.252991   \n",
       "2017-11-11   298.585999   319.453003   298.191986   314.681000   314.681000   \n",
       "2017-11-12   314.690002   319.153015   298.513000   307.907990   307.907990   \n",
       "2017-11-13   307.024994   328.415009   307.024994   316.716003   316.716003   \n",
       "...                 ...          ...          ...          ...          ...   \n",
       "2023-09-25  1580.747437  1595.844116  1565.025513  1588.322876  1588.322876   \n",
       "2023-09-26  1588.023193  1598.097778  1580.165527  1593.417236  1593.417236   \n",
       "2023-09-27  1593.108276  1631.910767  1585.368896  1597.491211  1597.491211   \n",
       "2023-09-28  1597.671997  1666.024170  1597.294678  1652.882690  1652.882690   \n",
       "2023-09-29  1652.999878  1687.281250  1648.656494  1667.943848  1667.943848   \n",
       "\n",
       "                Volume  \n",
       "Date                    \n",
       "2017-11-09   893249984  \n",
       "2017-11-10   885985984  \n",
       "2017-11-11   842300992  \n",
       "2017-11-12  1613479936  \n",
       "2017-11-13  1041889984  \n",
       "...                ...  \n",
       "2023-09-25  4394930984  \n",
       "2023-09-26  3544861160  \n",
       "2023-09-27  5533036096  \n",
       "2023-09-28  6658092168  \n",
       "2023-09-29  5529687537  \n",
       "\n",
       "[2151 rows x 6 columns]"
      ]
     },
     "execution_count": 3,
     "metadata": {},
     "output_type": "execute_result"
    }
   ],
   "source": [
    "symbol = \"ETH-USD\"\n",
    "start = \"2017-01-01\"\n",
    "end = \"2023-09-30\"\n",
    "df= yfinance.download(symbol, start, end)\n",
    "df"
   ]
  },
  {
   "cell_type": "code",
   "execution_count": 4,
   "metadata": {},
   "outputs": [],
   "source": [
    "df.to_csv(\"eth_2017-2023.csv\")"
   ]
  },
  {
   "cell_type": "markdown",
   "metadata": {},
   "source": [
    "### Data Preprocessing"
   ]
  },
  {
   "cell_type": "code",
   "execution_count": 7,
   "metadata": {},
   "outputs": [],
   "source": [
    "# Create a new column\n",
    "BUY = 1\n",
    "\n",
    "SELL = 0\n",
    "\n",
    "df[\"Buy/Sell\"] = np.where(df[\"Close\"].shift(-1)>df[\"Close\"],\n",
    "                          BUY,\n",
    "                          SELL)"
   ]
  },
  {
   "cell_type": "code",
   "execution_count": 8,
   "metadata": {},
   "outputs": [
    {
     "data": {
      "text/html": [
       "<div>\n",
       "<style scoped>\n",
       "    .dataframe tbody tr th:only-of-type {\n",
       "        vertical-align: middle;\n",
       "    }\n",
       "\n",
       "    .dataframe tbody tr th {\n",
       "        vertical-align: top;\n",
       "    }\n",
       "\n",
       "    .dataframe thead th {\n",
       "        text-align: right;\n",
       "    }\n",
       "</style>\n",
       "<table border=\"1\" class=\"dataframe\">\n",
       "  <thead>\n",
       "    <tr style=\"text-align: right;\">\n",
       "      <th></th>\n",
       "      <th>Open</th>\n",
       "      <th>High</th>\n",
       "      <th>Low</th>\n",
       "      <th>Close</th>\n",
       "      <th>Adj Close</th>\n",
       "      <th>Volume</th>\n",
       "      <th>Buy/Sell</th>\n",
       "    </tr>\n",
       "    <tr>\n",
       "      <th>Date</th>\n",
       "      <th></th>\n",
       "      <th></th>\n",
       "      <th></th>\n",
       "      <th></th>\n",
       "      <th></th>\n",
       "      <th></th>\n",
       "      <th></th>\n",
       "    </tr>\n",
       "  </thead>\n",
       "  <tbody>\n",
       "    <tr>\n",
       "      <th>2017-11-09</th>\n",
       "      <td>308.644989</td>\n",
       "      <td>329.451996</td>\n",
       "      <td>307.056000</td>\n",
       "      <td>320.884003</td>\n",
       "      <td>320.884003</td>\n",
       "      <td>893249984</td>\n",
       "      <td>0</td>\n",
       "    </tr>\n",
       "    <tr>\n",
       "      <th>2017-11-10</th>\n",
       "      <td>320.670990</td>\n",
       "      <td>324.717987</td>\n",
       "      <td>294.541992</td>\n",
       "      <td>299.252991</td>\n",
       "      <td>299.252991</td>\n",
       "      <td>885985984</td>\n",
       "      <td>1</td>\n",
       "    </tr>\n",
       "    <tr>\n",
       "      <th>2017-11-11</th>\n",
       "      <td>298.585999</td>\n",
       "      <td>319.453003</td>\n",
       "      <td>298.191986</td>\n",
       "      <td>314.681000</td>\n",
       "      <td>314.681000</td>\n",
       "      <td>842300992</td>\n",
       "      <td>0</td>\n",
       "    </tr>\n",
       "    <tr>\n",
       "      <th>2017-11-12</th>\n",
       "      <td>314.690002</td>\n",
       "      <td>319.153015</td>\n",
       "      <td>298.513000</td>\n",
       "      <td>307.907990</td>\n",
       "      <td>307.907990</td>\n",
       "      <td>1613479936</td>\n",
       "      <td>1</td>\n",
       "    </tr>\n",
       "    <tr>\n",
       "      <th>2017-11-13</th>\n",
       "      <td>307.024994</td>\n",
       "      <td>328.415009</td>\n",
       "      <td>307.024994</td>\n",
       "      <td>316.716003</td>\n",
       "      <td>316.716003</td>\n",
       "      <td>1041889984</td>\n",
       "      <td>1</td>\n",
       "    </tr>\n",
       "    <tr>\n",
       "      <th>...</th>\n",
       "      <td>...</td>\n",
       "      <td>...</td>\n",
       "      <td>...</td>\n",
       "      <td>...</td>\n",
       "      <td>...</td>\n",
       "      <td>...</td>\n",
       "      <td>...</td>\n",
       "    </tr>\n",
       "    <tr>\n",
       "      <th>2023-09-25</th>\n",
       "      <td>1580.747437</td>\n",
       "      <td>1595.844116</td>\n",
       "      <td>1565.025513</td>\n",
       "      <td>1588.322876</td>\n",
       "      <td>1588.322876</td>\n",
       "      <td>4394930984</td>\n",
       "      <td>1</td>\n",
       "    </tr>\n",
       "    <tr>\n",
       "      <th>2023-09-26</th>\n",
       "      <td>1588.023193</td>\n",
       "      <td>1598.097778</td>\n",
       "      <td>1580.165527</td>\n",
       "      <td>1593.417236</td>\n",
       "      <td>1593.417236</td>\n",
       "      <td>3544861160</td>\n",
       "      <td>1</td>\n",
       "    </tr>\n",
       "    <tr>\n",
       "      <th>2023-09-27</th>\n",
       "      <td>1593.108276</td>\n",
       "      <td>1631.910767</td>\n",
       "      <td>1585.368896</td>\n",
       "      <td>1597.491211</td>\n",
       "      <td>1597.491211</td>\n",
       "      <td>5533036096</td>\n",
       "      <td>1</td>\n",
       "    </tr>\n",
       "    <tr>\n",
       "      <th>2023-09-28</th>\n",
       "      <td>1597.671997</td>\n",
       "      <td>1666.024170</td>\n",
       "      <td>1597.294678</td>\n",
       "      <td>1652.882690</td>\n",
       "      <td>1652.882690</td>\n",
       "      <td>6658092168</td>\n",
       "      <td>1</td>\n",
       "    </tr>\n",
       "    <tr>\n",
       "      <th>2023-09-29</th>\n",
       "      <td>1652.999878</td>\n",
       "      <td>1687.281250</td>\n",
       "      <td>1648.656494</td>\n",
       "      <td>1667.943848</td>\n",
       "      <td>1667.943848</td>\n",
       "      <td>5529687537</td>\n",
       "      <td>0</td>\n",
       "    </tr>\n",
       "  </tbody>\n",
       "</table>\n",
       "<p>2151 rows × 7 columns</p>\n",
       "</div>"
      ],
      "text/plain": [
       "                   Open         High          Low        Close    Adj Close  \\\n",
       "Date                                                                          \n",
       "2017-11-09   308.644989   329.451996   307.056000   320.884003   320.884003   \n",
       "2017-11-10   320.670990   324.717987   294.541992   299.252991   299.252991   \n",
       "2017-11-11   298.585999   319.453003   298.191986   314.681000   314.681000   \n",
       "2017-11-12   314.690002   319.153015   298.513000   307.907990   307.907990   \n",
       "2017-11-13   307.024994   328.415009   307.024994   316.716003   316.716003   \n",
       "...                 ...          ...          ...          ...          ...   \n",
       "2023-09-25  1580.747437  1595.844116  1565.025513  1588.322876  1588.322876   \n",
       "2023-09-26  1588.023193  1598.097778  1580.165527  1593.417236  1593.417236   \n",
       "2023-09-27  1593.108276  1631.910767  1585.368896  1597.491211  1597.491211   \n",
       "2023-09-28  1597.671997  1666.024170  1597.294678  1652.882690  1652.882690   \n",
       "2023-09-29  1652.999878  1687.281250  1648.656494  1667.943848  1667.943848   \n",
       "\n",
       "                Volume  Buy/Sell  \n",
       "Date                              \n",
       "2017-11-09   893249984         0  \n",
       "2017-11-10   885985984         1  \n",
       "2017-11-11   842300992         0  \n",
       "2017-11-12  1613479936         1  \n",
       "2017-11-13  1041889984         1  \n",
       "...                ...       ...  \n",
       "2023-09-25  4394930984         1  \n",
       "2023-09-26  3544861160         1  \n",
       "2023-09-27  5533036096         1  \n",
       "2023-09-28  6658092168         1  \n",
       "2023-09-29  5529687537         0  \n",
       "\n",
       "[2151 rows x 7 columns]"
      ]
     },
     "execution_count": 8,
     "metadata": {},
     "output_type": "execute_result"
    }
   ],
   "source": [
    "df"
   ]
  },
  {
   "cell_type": "code",
   "execution_count": 10,
   "metadata": {},
   "outputs": [
    {
     "data": {
      "text/plain": [
       "array([0, 1, 0, ..., 1, 1, 0])"
      ]
     },
     "execution_count": 10,
     "metadata": {},
     "output_type": "execute_result"
    }
   ],
   "source": [
    "y = df[\"Buy/Sell\"].values\n",
    "y"
   ]
  },
  {
   "cell_type": "code",
   "execution_count": 11,
   "metadata": {},
   "outputs": [
    {
     "data": {
      "text/plain": [
       "array([[3.29451996e+02, 3.07056000e+02, 3.08644989e+02, 3.20884003e+02,\n",
       "        8.93249984e+08],\n",
       "       [3.24717987e+02, 2.94541992e+02, 3.20670990e+02, 2.99252991e+02,\n",
       "        8.85985984e+08],\n",
       "       [3.19453003e+02, 2.98191986e+02, 2.98585999e+02, 3.14681000e+02,\n",
       "        8.42300992e+08],\n",
       "       ...,\n",
       "       [1.63191077e+03, 1.58536890e+03, 1.59310828e+03, 1.59749121e+03,\n",
       "        5.53303610e+09],\n",
       "       [1.66602417e+03, 1.59729468e+03, 1.59767200e+03, 1.65288269e+03,\n",
       "        6.65809217e+09],\n",
       "       [1.68728125e+03, 1.64865649e+03, 1.65299988e+03, 1.66794385e+03,\n",
       "        5.52968754e+09]])"
      ]
     },
     "execution_count": 11,
     "metadata": {},
     "output_type": "execute_result"
    }
   ],
   "source": [
    "X = df[[\"High\", \"Low\", \"Open\", \"Close\", \"Volume\"]].values\n",
    "X"
   ]
  },
  {
   "cell_type": "markdown",
   "metadata": {},
   "source": [
    "#### Train-test Split"
   ]
  },
  {
   "cell_type": "code",
   "execution_count": 12,
   "metadata": {},
   "outputs": [
    {
     "data": {
      "text/plain": [
       "(1720, 5)"
      ]
     },
     "execution_count": 12,
     "metadata": {},
     "output_type": "execute_result"
    }
   ],
   "source": [
    "from sklearn.model_selection import train_test_split\n",
    "X_train, X_test, y_train, y_test = train_test_split(X, y, test_size=0.2)\n",
    "X_train.shape"
   ]
  },
  {
   "cell_type": "code",
   "execution_count": 13,
   "metadata": {},
   "outputs": [
    {
     "data": {
      "text/plain": [
       "(1720,)"
      ]
     },
     "execution_count": 13,
     "metadata": {},
     "output_type": "execute_result"
    }
   ],
   "source": [
    "y_train.shape"
   ]
  },
  {
   "cell_type": "code",
   "execution_count": 15,
   "metadata": {},
   "outputs": [
    {
     "data": {
      "text/plain": [
       "((431, 5), (431,))"
      ]
     },
     "execution_count": 15,
     "metadata": {},
     "output_type": "execute_result"
    }
   ],
   "source": [
    "X_test.shape, y_test.shape"
   ]
  },
  {
   "cell_type": "code",
   "execution_count": 22,
   "metadata": {},
   "outputs": [
    {
     "name": "stdout",
     "output_type": "stream",
     "text": [
      "0:\tlearn: 0.6918485\ttotal: 2.06ms\tremaining: 101ms\n",
      "1:\tlearn: 0.6907475\ttotal: 4.01ms\tremaining: 96.4ms\n",
      "2:\tlearn: 0.6899650\ttotal: 5.86ms\tremaining: 91.9ms\n",
      "3:\tlearn: 0.6891220\ttotal: 7.69ms\tremaining: 88.5ms\n",
      "4:\tlearn: 0.6889599\ttotal: 9.24ms\tremaining: 83.2ms\n",
      "5:\tlearn: 0.6881267\ttotal: 11.2ms\tremaining: 82.4ms\n",
      "6:\tlearn: 0.6878390\ttotal: 13ms\tremaining: 79.8ms\n",
      "7:\tlearn: 0.6871923\ttotal: 14.5ms\tremaining: 76.2ms\n",
      "8:\tlearn: 0.6866478\ttotal: 16.2ms\tremaining: 73.6ms\n",
      "9:\tlearn: 0.6858782\ttotal: 17.7ms\tremaining: 70.8ms\n",
      "10:\tlearn: 0.6853919\ttotal: 19.3ms\tremaining: 68.5ms\n",
      "11:\tlearn: 0.6849255\ttotal: 20.9ms\tremaining: 66.2ms\n",
      "12:\tlearn: 0.6844436\ttotal: 23ms\tremaining: 65.4ms\n",
      "13:\tlearn: 0.6842524\ttotal: 24.6ms\tremaining: 63.3ms\n",
      "14:\tlearn: 0.6834557\ttotal: 26.2ms\tremaining: 61.1ms\n",
      "15:\tlearn: 0.6828166\ttotal: 28.3ms\tremaining: 60.1ms\n",
      "16:\tlearn: 0.6823950\ttotal: 30.4ms\tremaining: 59ms\n",
      "17:\tlearn: 0.6820646\ttotal: 33ms\tremaining: 58.6ms\n",
      "18:\tlearn: 0.6812327\ttotal: 35.4ms\tremaining: 57.7ms\n",
      "19:\tlearn: 0.6807563\ttotal: 38.9ms\tremaining: 58.4ms\n",
      "20:\tlearn: 0.6803585\ttotal: 41.1ms\tremaining: 56.7ms\n",
      "21:\tlearn: 0.6796828\ttotal: 43ms\tremaining: 54.7ms\n",
      "22:\tlearn: 0.6795013\ttotal: 45.7ms\tremaining: 53.7ms\n",
      "23:\tlearn: 0.6791527\ttotal: 47.7ms\tremaining: 51.6ms\n",
      "24:\tlearn: 0.6786421\ttotal: 49.8ms\tremaining: 49.8ms\n",
      "25:\tlearn: 0.6781381\ttotal: 52.1ms\tremaining: 48.1ms\n",
      "26:\tlearn: 0.6775811\ttotal: 55.8ms\tremaining: 47.5ms\n",
      "27:\tlearn: 0.6773534\ttotal: 57.5ms\tremaining: 45.1ms\n",
      "28:\tlearn: 0.6768339\ttotal: 59.1ms\tremaining: 42.8ms\n",
      "29:\tlearn: 0.6764149\ttotal: 61.1ms\tremaining: 40.7ms\n",
      "30:\tlearn: 0.6761576\ttotal: 62.8ms\tremaining: 38.5ms\n",
      "31:\tlearn: 0.6758867\ttotal: 64.5ms\tremaining: 36.3ms\n",
      "32:\tlearn: 0.6755989\ttotal: 66ms\tremaining: 34ms\n",
      "33:\tlearn: 0.6750505\ttotal: 68.9ms\tremaining: 32.4ms\n",
      "34:\tlearn: 0.6747508\ttotal: 70.8ms\tremaining: 30.3ms\n",
      "35:\tlearn: 0.6743637\ttotal: 72.7ms\tremaining: 28.3ms\n",
      "36:\tlearn: 0.6737339\ttotal: 76.4ms\tremaining: 26.8ms\n",
      "37:\tlearn: 0.6734327\ttotal: 78.2ms\tremaining: 24.7ms\n",
      "38:\tlearn: 0.6731806\ttotal: 79.6ms\tremaining: 22.4ms\n",
      "39:\tlearn: 0.6729738\ttotal: 81.5ms\tremaining: 20.4ms\n",
      "40:\tlearn: 0.6727651\ttotal: 85ms\tremaining: 18.6ms\n",
      "41:\tlearn: 0.6723274\ttotal: 87.5ms\tremaining: 16.7ms\n",
      "42:\tlearn: 0.6717279\ttotal: 89.2ms\tremaining: 14.5ms\n",
      "43:\tlearn: 0.6710314\ttotal: 90.8ms\tremaining: 12.4ms\n",
      "44:\tlearn: 0.6705870\ttotal: 92.3ms\tremaining: 10.3ms\n",
      "45:\tlearn: 0.6701772\ttotal: 93.8ms\tremaining: 8.16ms\n",
      "46:\tlearn: 0.6700153\ttotal: 95.3ms\tremaining: 6.08ms\n",
      "47:\tlearn: 0.6698271\ttotal: 96.8ms\tremaining: 4.03ms\n",
      "48:\tlearn: 0.6695171\ttotal: 99ms\tremaining: 2.02ms\n",
      "49:\tlearn: 0.6690887\ttotal: 101ms\tremaining: 0us\n"
     ]
    },
    {
     "data": {
      "text/plain": [
       "True"
      ]
     },
     "execution_count": 22,
     "metadata": {},
     "output_type": "execute_result"
    }
   ],
   "source": [
    "import catboost\n",
    "from catboost import CatBoostClassifier\n",
    "model = CatBoostClassifier(iterations = 50, learning_rate =0.1)\n",
    "model.fit(X_train, y_train)\n",
    "model.is_fitted()"
   ]
  },
  {
   "cell_type": "markdown",
   "metadata": {},
   "source": [
    "### Make Predictions"
   ]
  },
  {
   "cell_type": "code",
   "execution_count": 23,
   "metadata": {},
   "outputs": [
    {
     "data": {
      "text/plain": [
       "array([1, 1, 1, 1, 1, 1, 0, 1, 1, 1, 0, 0, 0, 1, 1, 1, 0, 0, 0, 1, 1, 0,\n",
       "       0, 1, 1, 0, 1, 1, 0, 1, 1, 1, 0, 0, 1, 1, 0, 0, 0, 1, 0, 1, 0, 1,\n",
       "       1, 1, 1, 1, 1, 0, 1, 1, 0, 1, 1, 0, 1, 1, 1, 1, 0, 1, 0, 0, 1, 1,\n",
       "       0, 1, 1, 1, 1, 1, 0, 0, 1, 0, 1, 0, 1, 0, 1, 0, 0, 1, 1, 0, 0, 0,\n",
       "       0, 0, 1, 0, 1, 0, 0, 1, 0, 0, 0, 1, 1, 1, 1, 1, 1, 1, 1, 0, 1, 1,\n",
       "       0, 0, 0, 0, 1, 0, 0, 1, 0, 0, 0, 0, 1, 0, 0, 1, 1, 0, 0, 0, 1, 0,\n",
       "       0, 0, 0, 0, 0, 1, 1, 0, 0, 0, 0, 0, 1, 0, 0, 1, 0, 0, 0, 0, 1, 1,\n",
       "       1, 1, 0, 1, 1, 1, 1, 1, 0, 1, 0, 0, 0, 0, 0, 0, 0, 1, 0, 1, 0, 1,\n",
       "       0, 1, 1, 0, 1, 1, 1, 0, 1, 1, 1, 0, 0, 1, 0, 1, 0, 1, 0, 0, 0, 1,\n",
       "       1, 0, 1, 1, 1, 0, 0, 1, 0, 0, 1, 0, 1, 0, 0, 0, 1, 0, 0, 1, 1, 1,\n",
       "       1, 1, 1, 0, 0, 1, 0, 0, 0, 1, 1, 1, 1, 1, 1, 1, 0, 0, 0, 0, 0, 0,\n",
       "       0, 0, 0, 1, 0, 0, 1, 1, 1, 0, 1, 0, 1, 1, 1, 1, 0, 1, 1, 0, 0, 0,\n",
       "       1, 1, 0, 1, 1, 1, 1, 1, 0, 0, 1, 0, 1, 0, 0, 1, 0, 1, 1, 1, 0, 0,\n",
       "       1, 1, 0, 1, 0, 0, 0, 1, 0, 1, 0, 1, 1, 1, 0, 1, 0, 1, 0, 0, 1, 1,\n",
       "       0, 1, 0, 1, 1, 1, 0, 1, 1, 1, 0, 1, 0, 1, 0, 0, 0, 0, 1, 0, 1, 0,\n",
       "       0, 0, 1, 1, 1, 0, 1, 1, 0, 1, 1, 0, 1, 0, 0, 0, 1, 1, 1, 1, 0, 0,\n",
       "       1, 0, 1, 0, 1, 0, 1, 0, 0, 1, 0, 1, 1, 1, 1, 0, 1, 0, 0, 0, 0, 0,\n",
       "       0, 0, 0, 0, 0, 1, 0, 0, 0, 1, 1, 0, 1, 1, 1, 1, 1, 1, 0, 0, 0, 0,\n",
       "       0, 0, 1, 0, 0, 1, 1, 0, 1, 0, 0, 1, 1, 0, 0, 0, 1, 0, 0, 0, 0, 0,\n",
       "       1, 1, 1, 1, 1, 0, 0, 0, 0, 0, 1, 0, 0], dtype=int64)"
      ]
     },
     "execution_count": 23,
     "metadata": {},
     "output_type": "execute_result"
    }
   ],
   "source": [
    "models_predictions = model.predict(X_test)\n",
    "models_predictions"
   ]
  },
  {
   "cell_type": "code",
   "execution_count": 24,
   "metadata": {},
   "outputs": [
    {
     "data": {
      "text/plain": [
       "0.5127610208816705"
      ]
     },
     "execution_count": 24,
     "metadata": {},
     "output_type": "execute_result"
    }
   ],
   "source": [
    "model.score(X_test, y_test)"
   ]
  }
 ],
 "metadata": {
  "kernelspec": {
   "display_name": "tf-gpu-env",
   "language": "python",
   "name": "python3"
  },
  "language_info": {
   "codemirror_mode": {
    "name": "ipython",
    "version": 3
   },
   "file_extension": ".py",
   "mimetype": "text/x-python",
   "name": "python",
   "nbconvert_exporter": "python",
   "pygments_lexer": "ipython3",
   "version": "3.9.18"
  },
  "orig_nbformat": 4
 },
 "nbformat": 4,
 "nbformat_minor": 2
}
